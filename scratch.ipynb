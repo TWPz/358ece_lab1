{
 "cells": [
  {
   "cell_type": "code",
   "execution_count": 1,
   "metadata": {},
   "outputs": [],
   "source": [
    "#!/usr/bin/env python\n",
    "# coding: utf-8"
   ]
  },
  {
   "cell_type": "markdown",
   "metadata": {},
   "source": [
    "#specs:\n",
    "    M/M/1 has infinite buffer while M/M/1/K has only size of K packets\n",
    "    \n",
    "    𝐹(𝑥) = 1 − 𝑒^(−𝜆)\n",
    "    𝒙 = − (𝟏/𝝀) 𝒍𝒏(𝟏 − 𝑼)\n",
    "    where U is a uniformly generated number and 𝑥 is the exponential random variable"
   ]
  },
  {
   "cell_type": "code",
   "execution_count": 2,
   "metadata": {},
   "outputs": [],
   "source": [
    "# • λ = Average number of packets generated /arrived (packets per second)\n",
    "# • L = Average length of a packet in bits.\n",
    "# • α = Average number of observer events per second\n",
    "# • C = The transmission rate of the output link in bits per second.\n",
    "# • ρ = Utilization of the queue (= input rate/service rate = L λ/C)\n",
    "# • E[N] = Average number of packets in the buffer/queue\n",
    "# • PIDLE = The proportion of time the server is idle, i.e., no packets in the queue nor a packet is being transmitted.\n",
    "# • PLOSS = The packet loss probability (for M/M/1/K queue). It is the ratio of the total number of packets lost due to\n",
    "# buffer full condition to the total number of generated packets."
   ]
  },
  {
   "cell_type": "code",
   "execution_count": 3,
   "metadata": {},
   "outputs": [],
   "source": [
    "#simulation Time T\n",
    "#queue events with\n",
    "# ----- Packet arrival\n",
    "# ----- Packet departure\n",
    "# ----- Observer\n"
   ]
  },
  {
   "cell_type": "code",
   "execution_count": 4,
   "metadata": {},
   "outputs": [],
   "source": [
    "from random import seed\n",
    "from random import random\n",
    "import numpy as np\n",
    "import math\n",
    "\n",
    "seed(358)\n",
    "mil = 1000000"
   ]
  },
  {
   "cell_type": "code",
   "execution_count": 38,
   "metadata": {},
   "outputs": [],
   "source": [
    "#Q1 1000 erv with lamba = 75\n",
    "# get mean and variance of the 1000 rv\n",
    "\n",
    "def exp_rad_var(lambda_value):\n",
    "    return -1 * (math.log(1 - random())) / lambda_value\n",
    "\n",
    "def mean_variance(data):\n",
    "    mean = sum(data) / len(data)\n",
    "    deviations = [(x - mean) ** 2 for x in data]\n",
    "    variance = sum(deviations) / len(data)\n",
    "    return mean,variance\n",
    "\n",
    "def mean_variance_calculator(total_count, lambda_value):\n",
    "    rad_list = [exp_rad_var(lambda_value) for _ in range(total_count)]\n",
    "    expected_mean = 1/lambda_value\n",
    "    expected_variance = expected_mean/lambda_value\n",
    "    mean,variance = mean_variance(rad_list)\n",
    "    return mean,variance,expected_mean,expected_variance"
   ]
  },
  {
   "cell_type": "code",
   "execution_count": 69,
   "metadata": {},
   "outputs": [
    {
     "data": {
      "text/plain": [
       "1967.1239941899016"
      ]
     },
     "execution_count": 69,
     "metadata": {},
     "output_type": "execute_result"
    }
   ],
   "source": [
    "exp_rad_var(1/2000)"
   ]
  },
  {
   "cell_type": "markdown",
   "metadata": {},
   "source": [
    "## Q1"
   ]
  },
  {
   "cell_type": "code",
   "execution_count": 39,
   "metadata": {},
   "outputs": [],
   "source": [
    "m,v,em,ev = mean_variance_calculator(1000,75)"
   ]
  },
  {
   "cell_type": "code",
   "execution_count": 40,
   "metadata": {},
   "outputs": [
    {
     "name": "stdout",
     "output_type": "stream",
     "text": [
      "mean:         0.013678036263824692    variance:         0.00018849730409007805\n",
      "expect mean:  0.013333333333333334    expect variance:  0.00017777777777777779\n"
     ]
    }
   ],
   "source": [
    "print(\"mean:        \",m , \"   variance:        \", v)\n",
    "print(\"expect mean: \",em , \"   expect variance: \", ev)\n"
   ]
  },
  {
   "cell_type": "markdown",
   "metadata": {},
   "source": [
    "## Q2-3-4 M/M/1 Queue"
   ]
  },
  {
   "cell_type": "code",
   "execution_count": null,
   "metadata": {},
   "outputs": [],
   "source": [
    "class Packet:\n",
    "    def __init__(self,packet_size,arrival_time,service_time,departure_time):\n",
    "        self.packet_size = packet_size\n",
    "        self.arrival_time = arrival_time\n",
    "        self.service_time = service_time\n",
    "        self.departure_time = departure_time\n",
    "\n",
    "class Event:\n",
    "    def __init__(self,event,timestamp,packet_size,drop_status)\n",
    "        self.event = event \n",
    "        self.timestamp = timestamp\n",
    "        self.packet_size = packet_size\n",
    "        self.drop_status\n",
    "        \n"
   ]
  },
  {
   "cell_type": "code",
   "execution_count": null,
   "metadata": {},
   "outputs": [],
   "source": []
  },
  {
   "cell_type": "code",
   "execution_count": null,
   "metadata": {},
   "outputs": [],
   "source": [
    "def packet_stream(Time,lambda_value,L):\n",
    "    arrival_time = exp_rad_var(lambda_value)\n",
    "    packet_size = exp_rad_var(1/L)\n",
    "    service_time = packet_size/mil\n",
    "    \n",
    "    departure_time = arrival_time + service_time\n",
    "\n"
   ]
  },
  {
   "cell_type": "code",
   "execution_count": null,
   "metadata": {},
   "outputs": [],
   "source": []
  },
  {
   "cell_type": "code",
   "execution_count": null,
   "metadata": {},
   "outputs": [],
   "source": [
    "##### with infinite buffer \n",
    "## due to the accuracy of the adding of decimals, we hardcode the sequence\n",
    "#https://stackoverflow.com/questions/588004/is-floating-point-math-broken\n",
    "rho_list = [0.25, 0.35, 0.45, 0.55, 0.65, 0.75, 0.85, 0.95]\n",
    "\n",
    "def queue_with_infinite_buffer(Time,L=2000,C=mil):\n",
    "    # start processing\n",
    "    round_index = 0\n",
    "    for rho in rho_list:\n",
    "        print(\"PROCESS # \", round_index)\n",
    "        round_index = round_index + 1 \n",
    "        # ---------- getting lambda value\n",
    "        lambda_value = rho / L * C\n",
    "        m,v,em,ev = mean_variance_calculator(1000,lambda_value)\n",
    "        print(\"mean:        \",m , \"   variance:        \", v)\n",
    "        print(\"expect mean: \",em , \"   expect variance: \", ev)\n",
    "        # ---------- getting departure time value\n",
    "        \n",
    "        \n",
    "        \n"
   ]
  },
  {
   "cell_type": "code",
   "execution_count": null,
   "metadata": {},
   "outputs": [],
   "source": []
  }
 ],
 "metadata": {
  "kernelspec": {
   "display_name": "Python 3",
   "language": "python",
   "name": "python3"
  },
  "language_info": {
   "codemirror_mode": {
    "name": "ipython",
    "version": 3
   },
   "file_extension": ".py",
   "mimetype": "text/x-python",
   "name": "python",
   "nbconvert_exporter": "python",
   "pygments_lexer": "ipython3",
   "version": "3.8.5"
  }
 },
 "nbformat": 4,
 "nbformat_minor": 5
}

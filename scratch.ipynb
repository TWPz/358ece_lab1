{
 "cells": [
  {
   "cell_type": "code",
   "execution_count": 1,
   "metadata": {},
   "outputs": [],
   "source": [
    "#!/usr/bin/env python\n",
    "# coding: utf-8"
   ]
  },
  {
   "cell_type": "markdown",
   "metadata": {},
   "source": [
    "#specs:\n",
    "    M/M/1 has infinite buffer while M/M/1/K has only size of K packets\n",
    "    \n",
    "    𝐹(𝑥) = 1 − 𝑒^(−𝜆)\n",
    "    𝒙 = − (𝟏/𝝀) 𝒍𝒏(𝟏 − 𝑼)\n",
    "    where U is a uniformly generated number and 𝑥 is the exponential random variable"
   ]
  },
  {
   "cell_type": "code",
   "execution_count": 2,
   "metadata": {},
   "outputs": [],
   "source": [
    "# • λ = Average number of packets generated /arrived (packets per second)\n",
    "# • L = Average length of a packet in bits.\n",
    "# • α = Average number of observer events per second\n",
    "# • C = The transmission rate of the output link in bits per second.\n",
    "# • ρ = Utilization of the queue (= input rate/service rate = L λ/C)\n",
    "# • E[N] = Average number of packets in the buffer/queue\n",
    "# • PIDLE = The proportion of time the server is idle, i.e., no packets in the queue nor a packet is being transmitted.\n",
    "# • PLOSS = The packet loss probability (for M/M/1/K queue). It is the ratio of the total number of packets lost due to\n",
    "# buffer full condition to the total number of generated packets."
   ]
  },
  {
   "cell_type": "code",
   "execution_count": 3,
   "metadata": {},
   "outputs": [],
   "source": [
    "#simulation Time T\n",
    "#queue events with\n",
    "# ----- Packet arrival\n",
    "# ----- Packet departure\n",
    "# ----- Observer\n"
   ]
  },
  {
   "cell_type": "code",
   "execution_count": 3,
   "metadata": {},
   "outputs": [],
   "source": [
    "from random import seed\n",
    "from random import random\n",
    "import numpy as np\n",
    "import math\n",
    "import matplotlib.pyplot as plt\n",
    "import heapq\n",
    "\n",
    "seed(358)\n",
    "L = 2000\n",
    "mil = C_rate = 1000000\n",
    "lambda_alpha_factor = 5"
   ]
  },
  {
   "cell_type": "code",
   "execution_count": 4,
   "metadata": {},
   "outputs": [],
   "source": [
    "#Q1 1000 erv with lamba = 75\n",
    "# get mean and variance of the 1000 rv\n",
    "\n",
    "def exp_rad_var(lambda_value):\n",
    "    return -1 * (math.log(1 - random())) / lambda_value\n",
    "\n",
    "def mean_variance(data):\n",
    "    mean = sum(data) / len(data)\n",
    "    deviations = [(x - mean) ** 2 for x in data]\n",
    "    variance = sum(deviations) / len(data)\n",
    "    return mean,variance\n",
    "\n",
    "def mean_variance_calculator(total_count, lambda_value):\n",
    "    rad_list = [exp_rad_var(lambda_value) for _ in range(total_count)]\n",
    "    expected_mean = 1/lambda_value\n",
    "    expected_variance = expected_mean/lambda_value\n",
    "    mean,variance = mean_variance(rad_list)\n",
    "    return mean,variance,expected_mean,expected_variance"
   ]
  },
  {
   "cell_type": "code",
   "execution_count": 6,
   "metadata": {},
   "outputs": [
    {
     "data": {
      "text/plain": [
       "2894.5269161164233"
      ]
     },
     "execution_count": 6,
     "metadata": {},
     "output_type": "execute_result"
    }
   ],
   "source": [
    "exp_rad_var(1/2000)"
   ]
  },
  {
   "cell_type": "markdown",
   "metadata": {},
   "source": [
    "## Q1"
   ]
  },
  {
   "cell_type": "code",
   "execution_count": 7,
   "metadata": {},
   "outputs": [],
   "source": [
    "m,v,em,ev = mean_variance_calculator(1000,75)"
   ]
  },
  {
   "cell_type": "code",
   "execution_count": 8,
   "metadata": {},
   "outputs": [
    {
     "name": "stdout",
     "output_type": "stream",
     "text": [
      "mean:         0.013663521938766698    variance:         0.00019549101399417157\n",
      "expect mean:  0.013333333333333334    expect variance:  0.00017777777777777779\n"
     ]
    }
   ],
   "source": [
    "print(\"mean:        \",m , \"   variance:        \", v)\n",
    "print(\"expect mean: \",em , \"   expect variance: \", ev)\n"
   ]
  },
  {
   "cell_type": "code",
   "execution_count": 60,
   "metadata": {},
   "outputs": [
    {
     "name": "stdout",
     "output_type": "stream",
     "text": [
      "Question 1 with 6 runs on lambda = 75\n",
      "-----------------------  1  -----------------------\n",
      "result mean: 0.013226653787106905      result variance: 0.00017606421611854675\n",
      "expect mean: 0.013333333333333334      expect variance: 0.00017777777777777779\n",
      "\n",
      "-----------------------  2  -----------------------\n",
      "result mean: 0.01400861414366895       result variance: 0.00017237074114964188\n",
      "expect mean: 0.013333333333333334      expect variance: 0.00017777777777777779\n",
      "\n",
      "-----------------------  3  -----------------------\n",
      "result mean: 0.01288625265475489       result variance: 0.0001658483822809557\n",
      "expect mean: 0.013333333333333334      expect variance: 0.00017777777777777779\n",
      "\n",
      "-----------------------  4  -----------------------\n",
      "result mean: 0.013463475316401699      result variance: 0.00018038965918284469\n",
      "expect mean: 0.013333333333333334      expect variance: 0.00017777777777777779\n",
      "\n",
      "-----------------------  5  -----------------------\n",
      "result mean: 0.013103344326830847      result variance: 0.00016833487672095182\n",
      "expect mean: 0.013333333333333334      expect variance: 0.00017777777777777779\n",
      "\n",
      "-----------------------  6  -----------------------\n",
      "result mean: 0.01365642078271553       result variance: 0.00017857754482095232\n",
      "expect mean: 0.013333333333333334      expect variance: 0.00017777777777777779\n",
      "\n"
     ]
    }
   ],
   "source": [
    "\n",
    "print(\"Question 1 with 6 runs on lambda = 75\")\n",
    "\n",
    "for i in range(6):\n",
    "    m,v,em,ev = mean_variance_calculator(1000,75)\n",
    "    print(\"-----------------------  \"+ str(i+1) +\"  -----------------------\")\n",
    "    line_result = 'result mean: {:<20}      result variance: {:<20}'.format(m,v)\n",
    "    line_expect = 'expect mean: {:<20}      expect variance: {:<20}'.format(em,ev)\n",
    "    print(line_result)\n",
    "    print(line_expect)\n",
    "    print()"
   ]
  },
  {
   "cell_type": "code",
   "execution_count": null,
   "metadata": {},
   "outputs": [],
   "source": []
  },
  {
   "cell_type": "code",
   "execution_count": 70,
   "metadata": {},
   "outputs": [
    {
     "name": "stdout",
     "output_type": "stream",
     "text": [
      "You Have Question Number Options as 1, 3, 6\n",
      "\n",
      "Question 1 contains answer for Q1\n",
      "Question 3 contains answer for Q2,Q3 and Q4\n",
      "Question 6 contains answer for Q5 and Q6\n",
      "\n",
      "Enter a number for question now: 1\n",
      "1\n"
     ]
    }
   ],
   "source": [
    "print(\"You Have Question Number Options as 1, 3, 6\\n\")\n",
    "print(\"Question 1 contains answer for Q1\")\n",
    "print(\"Question 3 contains answer for Q2,Q3 and Q4\")\n",
    "print(\"Question 6 contains answer for Q5 and Q6\\n\")\n",
    "question_number = input (\"Enter a number for question now: \")\n",
    "test_number = int(question_number)\n",
    "\n",
    "if(test_number == 1):\n",
    "elif(test_number == 3):\n",
    "elif(test_number == 6):\n",
    "else: print(\"Please Re-enter number to enter the program!\")\n",
    "\n"
   ]
  },
  {
   "cell_type": "code",
   "execution_count": 1,
   "metadata": {},
   "outputs": [
    {
     "name": "stdout",
     "output_type": "stream",
     "text": [
      "You Have Question Number Options as 1, 3, 6\n",
      "\n",
      "Question 1 contains answer for Q1\n",
      "Question 3 contains answer for Q2,Q3 and Q4\n",
      "Question 6 contains answer for Q5 and Q6\n",
      "\n",
      "Enter a number for question now: 5\n"
     ]
    }
   ],
   "source": [
    "print(\"You Have Question Number Options as 1, 3, 6\\n\")\n",
    "print(\"Question 1 contains answer for Q1\")\n",
    "print(\"Question 3 contains answer for Q2,Q3 and Q4\")\n",
    "print(\"Question 6 contains answer for Q5 and Q6\\n\")\n",
    "\n",
    "while True:\n",
    "    try:\n",
    "        question_number = int(input(\"Enter a number for question now: \"))\n",
    "        break\n",
    "    except:\n",
    "        print(\"That's not a valid option!\")\n",
    "# print(type(question_number))\n",
    "# if(type(question_number) != int ): \n",
    "#     print(\"number only ! \")\n",
    "# else:\n",
    "#     test_number = int(question_number)"
   ]
  },
  {
   "cell_type": "code",
   "execution_count": null,
   "metadata": {},
   "outputs": [],
   "source": []
  },
  {
   "cell_type": "markdown",
   "metadata": {},
   "source": [
    "## Q2-3-4 M/M/1 Queue"
   ]
  },
  {
   "cell_type": "code",
   "execution_count": 5,
   "metadata": {},
   "outputs": [],
   "source": [
    "def infinite_buffer_event_list(Time,lambda_value,L=2000):\n",
    "    #get observer rate from lambda_value (5 times as default)\n",
    "    alpha = lambda_alpha_factor * lambda_value\n",
    "    #initialization of time stream:\n",
    "    departureStream = 0 \n",
    "    arrivalStream = 0\n",
    "    observerStream = 0\n",
    "    \n",
    "    #lists to hold times\n",
    "    departureStream_list = []\n",
    "    arrivalStream_list = []\n",
    "    observerStream_list = []\n",
    "    \n",
    "    #get data packets running ...\n",
    "    #start of simulation \n",
    "    while observerStream < Time: \n",
    "        # set up timestamps where observer checks the queue\n",
    "        observerStream = exp_rad_var(alpha) + observerStream\n",
    "        observerStream_list.append(observerStream) \n",
    "        \n",
    "    while arrivalStream < Time:\n",
    "        # set up arrival time and package size for each request throughout the queue\n",
    "        arrivalStream = exp_rad_var(lambda_value) + arrivalStream\n",
    "        packet_size = exp_rad_var(1/L)\n",
    "        #observerStream = packet_size/C_rate\n",
    "        service_time = packet_size/C_rate \n",
    "        \n",
    "        arrivalStream_list.append(arrivalStream)\n",
    "        # the first packet arrival T is d\n",
    "        # If the queue is idle, then the departure time of packet \n",
    "        # will be its arrival time plus its transmission time (service time)\n",
    "        # otherwise it would simply be departure time plus service time\n",
    "        departureStream = arrivalStream + service_time if(arrivalStream > departureStream) else departureStream + service_time\n",
    "        departureStream_list.append(departureStream)\n",
    "    \n",
    "    event_list = []\n",
    "    for d in departureStream_list:\n",
    "        event_list.append((d,\"Departure\"))\n",
    "    for a in arrivalStream_list:\n",
    "        event_list.append((a,\"Arrival\"))\n",
    "    for o in observerStream_list:\n",
    "        event_list.append((o,\"Observer\"))\n",
    "        \n",
    "    # put all the events in a list then sort them according to time\n",
    "    event_list.sort(key=lambda tup: tup[0], reverse=False)\n",
    "    return event_list,departureStream_list,arrivalStream_list,observerStream_list\n",
    "\n",
    "def infinite_buffer_calculation(data):\n",
    "    arrival_count = 0 \n",
    "    departure_count = 0 \n",
    "    observer_count = 0 \n",
    "    idle_c = 0\n",
    "    avg_packet_list = []\n",
    "    for key in data:\n",
    "        if(key[1] == 'Arrival'):\n",
    "            arrival_count = arrival_count + 1\n",
    "        elif(key[1] == 'Departure'):\n",
    "            departure_count = departure_count + 1\n",
    "        elif(key[1] == 'Observer'):\n",
    "            observer_count = observer_count + 1\n",
    "            packets_in_buffer = arrival_count - departure_count\n",
    "            if(packets_in_buffer == 0):\n",
    "                idle_c = idle_c + 1\n",
    "            else:\n",
    "                avg_packet_list.append(packets_in_buffer)\n",
    "                \n",
    "    p_idle = idle_c / observer_count\n",
    "    avg_packet = sum(avg_packet_list)/len(avg_packet_list)\n",
    "    return p_idle, avg_packet\n",
    "                \n",
    "    \n",
    "    \n",
    "        "
   ]
  },
  {
   "cell_type": "code",
   "execution_count": 6,
   "metadata": {},
   "outputs": [],
   "source": [
    "def plot_q3_4():\n",
    "    plt.title(\"E[N] - Rho \")\n",
    "    plt.plot(rho_list, EN, marker='.')\n",
    "    plt.xlabel('Rho values')\n",
    "    plt.ylabel('Average # of packets ')\n",
    "    plt.show()\n",
    "    plt.close()\n",
    "\n",
    "\n",
    "    plt.title(\"Pidle - Rho\")\n",
    "    plt.xlabel('Rho values')\n",
    "    plt.ylabel('Percent of idle system')\n",
    "    plt.plot(rho_list, PIDLE, marker='.')\n",
    "    plt.show()\n",
    "    plt.close()"
   ]
  },
  {
   "cell_type": "code",
   "execution_count": 7,
   "metadata": {},
   "outputs": [],
   "source": [
    "##### with infinite buffer \n",
    "## due to the accuracy of the adding of decimals, we hardcode the sequence\n",
    "#https://stackoverflow.com/questions/588004/is-floating-point-math-broken\n",
    "rho_list = [0.25, 0.35, 0.45, 0.55, 0.65, 0.75, 0.85, 0.95]\n",
    "\n",
    "def queue_with_infinite_buffer(Time,L=2000,C=C_rate):\n",
    "    round_index = 0\n",
    "    # two lists to hold the records of packets and IDLE ratio for each Rho value\n",
    "    total_avg_packet = []\n",
    "    total_p_idle = []\n",
    "    # start processing\n",
    "    for rho in rho_list:\n",
    "        round_index = round_index + 1 \n",
    "        # ---------- getting lambda value -----------\n",
    "        lambda_value = rho / L * C\n",
    "        print(\"PROCESS # \", round_index, \"   rho: \", rho, \"   lambda: \", lambda_value)\n",
    "        # generate events list from DES generator \n",
    "        events,_,_,_ = infinite_buffer_event_list(Time,lambda_value,L)\n",
    "        pidle,avg_packet = infinite_buffer_calculation(events)\n",
    "        print(\"P idle: \", pidle, \"  E[N]: \", avg_packet )\n",
    "        total_avg_packet.append(avg_packet)\n",
    "        total_p_idle.append(pidle)\n",
    "        \n",
    "    return total_avg_packet,total_p_idle\n",
    "      \n",
    "    "
   ]
  },
  {
   "cell_type": "code",
   "execution_count": 12,
   "metadata": {},
   "outputs": [
    {
     "name": "stdout",
     "output_type": "stream",
     "text": [
      "PROCESS #  1    rho:  0.25    lambda:  125.0\n",
      "P idle:  0.7518513194045109   E[N]:  1.339424915192049\n",
      "PROCESS #  2    rho:  0.35    lambda:  175.0\n",
      "P idle:  0.6485669519544057   E[N]:  1.5397480423528187\n",
      "PROCESS #  3    rho:  0.45    lambda:  225.0\n",
      "P idle:  0.5512853272008134   E[N]:  1.815058457851622\n",
      "PROCESS #  4    rho:  0.55    lambda:  275.0\n",
      "P idle:  0.4524473828526982   E[N]:  2.2069994267343946\n",
      "PROCESS #  5    rho:  0.65    lambda:  325.0\n",
      "P idle:  0.3512649036615503   E[N]:  2.8458912490443553\n",
      "PROCESS #  6    rho:  0.75    lambda:  375.0\n",
      "P idle:  0.24663837414942397   E[N]:  4.071564635484899\n",
      "PROCESS #  7    rho:  0.85    lambda:  425.0\n",
      "P idle:  0.14857724628616842   E[N]:  6.860155896604309\n",
      "PROCESS #  8    rho:  0.95    lambda:  475.0\n",
      "P idle:  0.0473744246539496   E[N]:  22.022734440625097\n"
     ]
    },
    {
     "data": {
      "image/png": "[encoded data removed]",
      "text/plain": [
       "<Figure size 432x288 with 1 Axes>"
      ]
     },
     "metadata": {
      "needs_background": "light"
     },
     "output_type": "display_data"
    },
    {
     "data": {
      "image/png": "[encoded data removed]",
      "text/plain": [
       "<Figure size 432x288 with 1 Axes>"
      ]
     },
     "metadata": {
      "needs_background": "light"
     },
     "output_type": "display_data"
    }
   ],
   "source": [
    "EN,PIDLE = queue_with_infinite_buffer(1000)\n",
    "plot_q3_4()"
   ]
  },
  {
   "cell_type": "code",
   "execution_count": 13,
   "metadata": {},
   "outputs": [
    {
     "name": "stdout",
     "output_type": "stream",
     "text": [
      "PROCESS #  1    rho:  0.25    lambda:  125.0\n",
      "P idle:  0.749523510550037   E[N]:  1.3338992371488678\n",
      "PROCESS #  2    rho:  0.35    lambda:  175.0\n",
      "P idle:  0.6496962866267811   E[N]:  1.5409663282853499\n",
      "PROCESS #  3    rho:  0.45    lambda:  225.0\n",
      "P idle:  0.5508046695406137   E[N]:  1.8092188130223266\n",
      "PROCESS #  4    rho:  0.55    lambda:  275.0\n",
      "P idle:  0.44833453096337067   E[N]:  2.2162422856028448\n",
      "PROCESS #  5    rho:  0.65    lambda:  325.0\n",
      "P idle:  0.3499973070004139   E[N]:  2.862390777124253\n",
      "PROCESS #  6    rho:  0.75    lambda:  375.0\n",
      "P idle:  0.24740003894673102   E[N]:  4.08353374480156\n",
      "PROCESS #  7    rho:  0.85    lambda:  425.0\n",
      "P idle:  0.15098270868485816   E[N]:  6.586453064765109\n",
      "PROCESS #  8    rho:  0.95    lambda:  475.0\n",
      "P idle:  0.05025937463355873   E[N]:  19.824768367202406\n"
     ]
    },
    {
     "data": {
      "image/png": "[encoded data removed]",
      "text/plain": [
       "<Figure size 432x288 with 1 Axes>"
      ]
     },
     "metadata": {
      "needs_background": "light"
     },
     "output_type": "display_data"
    },
    {
     "data": {
      "image/png": "[encoded data removed]",
      "text/plain": [
       "<Figure size 432x288 with 1 Axes>"
      ]
     },
     "metadata": {
      "needs_background": "light"
     },
     "output_type": "display_data"
    }
   ],
   "source": [
    "EN,PIDLE = queue_with_infinite_buffer(2000)\n",
    "plot_q3_4()"
   ]
  },
  {
   "cell_type": "markdown",
   "metadata": {},
   "source": [
    "## Q4"
   ]
  },
  {
   "cell_type": "code",
   "execution_count": 9,
   "metadata": {},
   "outputs": [
    {
     "name": "stdout",
     "output_type": "stream",
     "text": [
      "PROCESS #  1    rho:  1.2    lambda:  600.0\n",
      "P idle:  5.673739929111626e-06   E[N]:  49782.08836633077\n",
      "PROCESS #  1    rho:  1.2    lambda:  600.0\n",
      "P idle:  2.3328924166665833e-06   E[N]:  49882.77479737116\n",
      "PROCESS #  1    rho:  1.2    lambda:  600.0\n",
      "P idle:  3.700127037694961e-05   E[N]:  50802.13322316992\n",
      "PROCESS #  1    rho:  1.2    lambda:  600.0\n",
      "P idle:  1.667240197294536e-05   E[N]:  50035.08323768772\n",
      "PROCESS #  1    rho:  1.2    lambda:  600.0\n",
      "P idle:  3.328247770739643e-07   E[N]:  50860.45762956124\n",
      "PROCESS #  1    rho:  1.2    lambda:  600.0\n",
      "P idle:  1.000141353311268e-06   E[N]:  49971.34701105791\n",
      "\n",
      "PROCESS #  1    rho:  1.2    lambda:  600.0\n",
      "P idle:  5.829831547850258e-06   E[N]:  100486.1717959767\n",
      "PROCESS #  1    rho:  1.2    lambda:  600.0\n",
      "P idle:  9.169787450995823e-06   E[N]:  101302.17380024318\n"
     ]
    }
   ],
   "source": [
    "rho_list = [1.2]\n",
    "for i in range(6):\n",
    "    EN,PIDLE = queue_with_infinite_buffer(1000)\n",
    "    \n",
    "print()\n",
    "EN,PIDLE = queue_with_infinite_buffer(2000)\n",
    "EN,PIDLE = queue_with_infinite_buffer(2000)\n",
    "# EN,PIDLE = queue_with_infinite_buffer(3000)"
   ]
  },
  {
   "cell_type": "markdown",
   "metadata": {},
   "source": [
    "## Q5 M/M/1/K queue"
   ]
  },
  {
   "cell_type": "code",
   "execution_count": null,
   "metadata": {},
   "outputs": [],
   "source": []
  },
  {
   "cell_type": "code",
   "execution_count": 15,
   "metadata": {},
   "outputs": [],
   "source": [
    "def finite_buffer_event_list(Time,lambda_value,L=2000):\n",
    "    #get observer rate from lambda_value (5 times as default)\n",
    "    alpha = lambda_alpha_factor * lambda_value\n",
    "    #initialization of time stream:\n",
    "    \n",
    "    #departureStream = 0 \n",
    "    arrivalStream = 0\n",
    "    observerStream = 0\n",
    "    \n",
    "    event_list = []\n",
    "    #get data packets running ...\n",
    "    #start of simulation \n",
    "    \n",
    "    \n",
    "    # set up timestamps where observer checks the queue  \n",
    "    while observerStream < Time:\n",
    "        observerStream = exp_rad_var(alpha) + observerStream\n",
    "        event_list.append((observerStream,\"Observer\"))\n",
    "        \n",
    "    # set up arrival time and package size for each request throughout the queue\n",
    "    while arrivalStream < Time:\n",
    "        arrivalStream = exp_rad_var(lambda_value) + arrivalStream\n",
    "        event_list.append((arrivalStream,\"Arrival\"))\n",
    "        \n",
    "    # put all the events in a list then sort them according to time\n",
    "    event_list.sort(key=lambda tup: tup[0], reverse=False)\n",
    "    return event_list\n",
    "\n",
    "def finite_buffer_calculation(event_list,K):\n",
    "    arrival_count = 0 \n",
    "    departure_count = 0\n",
    "    observer_count = 0 \n",
    "    \n",
    "    idle_c = 0\n",
    "    loss_c = 0\n",
    "    \n",
    "    avg_packet_list = []\n",
    "\n",
    "    number_in_queue = 0\n",
    "    #packet_count = 0\n",
    "    packet_size = 0\n",
    "    service_time = 0\n",
    "    \n",
    "    #calculations for generating departure stream \n",
    "    departureStream_list = []\n",
    "    departureStream = 0 \n",
    "\n",
    "    while len(event_list) > 0:\n",
    "        # grab the first item(the smallest timestamp)\n",
    "        event = heapq.heappop(event_list)\n",
    "        if(event[1] == 'Arrival'):\n",
    "            # packet_count = packet_count + 1 \n",
    "            # if queue is not FULL, we update number of packets in the buffer\n",
    "            # then fire a departure event based on arrival time\n",
    "            if(number_in_queue < K): \n",
    "                number_in_queue = number_in_queue + 1\n",
    "                arrival_count = arrival_count + 1           \n",
    "                service_time = (exp_rad_var(1/L))/C_rate\n",
    "                if(departureStream < event[0]):\n",
    "                    departureStream = service_time + event[0]\n",
    "                else:\n",
    "                    departureStream = departureStream + service_time\n",
    "                \n",
    "                # departure event added to list\n",
    "                event_list.append((departureStream,\"Departure\"))\n",
    "                \n",
    "            # when queue is full, the packet is lost \n",
    "            else:\n",
    "                loss_c = loss_c + 1\n",
    "   \n",
    "        elif(event[1] == 'Departure'):\n",
    "            #print(\"departure\")\n",
    "            departure_count = departure_count + 1\n",
    "            number_in_queue = number_in_queue - 1\n",
    "            \n",
    "            \n",
    "        elif(event[1] == 'Observer'):\n",
    "            #print(\"observer\")\n",
    "            observer_count = observer_count + 1\n",
    "            avg_packet_list.append(arrival_count - departure_count)\n",
    "    \n",
    "    p_loss = loss_c/(loss_c + arrival_count)\n",
    "    #p_new_loss = loss_c / packet_count\n",
    "    avg_packet = sum(avg_packet_list)/len(avg_packet_list)\n",
    "    \n",
    "    return p_loss, avg_packet\n",
    "        "
   ]
  },
  {
   "cell_type": "code",
   "execution_count": 16,
   "metadata": {},
   "outputs": [
    {
     "data": {
      "text/plain": [
       "[1, 3, 4, 5]"
      ]
     },
     "execution_count": 16,
     "metadata": {},
     "output_type": "execute_result"
    }
   ],
   "source": [
    "a= [1,3,4,5,6,63,9]\n",
    "a[0:4]"
   ]
  },
  {
   "cell_type": "code",
   "execution_count": 17,
   "metadata": {},
   "outputs": [],
   "source": [
    "def plot_q5_6(EN,PIDLE):\n",
    "    EN_10 = []\n",
    "    EN_25 = []\n",
    "    EN_50 = []\n",
    "    EN_10 = EN[0:11]\n",
    "    EN_25 = EN[11:12+10]\n",
    "    EN_50 = EN[12+10:]\n",
    "#     print(rho_list_second)\n",
    "#     print(EN_10)\n",
    "#     print(EN_25)\n",
    "#     print(EN_50)\n",
    "    plt.title(\"E[N] - Rho \")\n",
    "    plt.plot(rho_list_second, EN_10,label=\"K = 10\",marker='.')\n",
    "    plt.plot(rho_list_second, EN_25,label=\"K = 25\",marker='.')\n",
    "    plt.plot(rho_list_second, EN_50,label=\"K = 50\",marker='.')\n",
    "    plt.xlabel('Rho values')\n",
    "    plt.ylabel('Average # of packets ')\n",
    "    plt.grid()\n",
    "    plt.legend()\n",
    "    plt.show()\n",
    "    plt.close()\n",
    "    \n",
    "    \n",
    "    \n",
    "    PIDLE_10 = []\n",
    "    PIDLE_25 = []\n",
    "    PIDLE_50 = []\n",
    "    PIDLE_10 = PIDLE[0:11]\n",
    "    PIDLE_25 = PIDLE[11:12+10]\n",
    "    PIDLE_50 = PIDLE[12+10:]\n",
    "    plt.title(\"Pidle - Rho\")\n",
    "    plt.xlabel('Rho values')\n",
    "    plt.ylabel('Percent of idle system')\n",
    "    plt.plot(rho_list_second, PIDLE_10,label=\"K = 10\",marker='.')\n",
    "    plt.plot(rho_list_second, PIDLE_25,label=\"K = 25\",marker='.')\n",
    "    plt.plot(rho_list_second, PIDLE_50,label=\"K = 50\",marker='.')\n",
    "    plt.grid()\n",
    "    plt.legend()\n",
    "    plt.show()\n",
    "    plt.close()"
   ]
  },
  {
   "cell_type": "code",
   "execution_count": null,
   "metadata": {},
   "outputs": [],
   "source": []
  },
  {
   "cell_type": "code",
   "execution_count": null,
   "metadata": {},
   "outputs": [],
   "source": []
  },
  {
   "cell_type": "code",
   "execution_count": 19,
   "metadata": {},
   "outputs": [],
   "source": [
    "rho_list_second = [0.5, 0.6, 0.7, 0.8, 0.9, 1.0, 1.1, 1.2, 1.3, 1.4, 1.5]\n",
    "packet_list = [10, 25, 50]\n",
    "def queue_with_finite_buffer(Time,L=2000,C=C_rate):\n",
    "    # start processing\n",
    "    round_index = 0\n",
    "    total_avg = []\n",
    "    total_p_loss = []\n",
    "    for K in packet_list:\n",
    "        for rho in rho_list_second:\n",
    "            round_index = round_index + 1 \n",
    "            # ---------- getting lambda value\n",
    "            lambda_value = rho / L * C\n",
    "            print(\"PROCESS # \", round_index, \"   rho: \", rho, \"   lambda: \", lambda_value, \"  K:\", K)\n",
    "            eve = finite_buffer_event_list(Time,lambda_value,L)\n",
    "            #print(\"长度: \" , len(eve))\n",
    "            ploss,e_n = finite_buffer_calculation(eve,K)\n",
    "            print(\"P loss: \", ploss, \"  E[N]: \", e_n )\n",
    "            total_avg.append(e_n)\n",
    "            total_p_loss.append(ploss)\n",
    "        print(\"------------------------------------------------------------------------------------\")\n",
    "    return total_avg,total_p_loss"
   ]
  },
  {
   "cell_type": "code",
   "execution_count": 20,
   "metadata": {},
   "outputs": [
    {
     "name": "stdout",
     "output_type": "stream",
     "text": [
      "PROCESS #  1    rho:  0.5    lambda:  250.0   K: 10\n",
      "P loss:  0.0005279176448474038   E[N]:  1.0181269968338276\n",
      "PROCESS #  2    rho:  0.6    lambda:  300.0   K: 10\n",
      "P loss:  0.0025473422728952795   E[N]:  1.4770730997974861\n",
      "PROCESS #  3    rho:  0.7    lambda:  350.0   K: 10\n",
      "P loss:  0.008710841172709836   E[N]:  2.14172814240024\n",
      "PROCESS #  4    rho:  0.8    lambda:  400.0   K: 10\n",
      "P loss:  0.02299612520418348   E[N]:  2.9796690789964186\n",
      "PROCESS #  5    rho:  0.9    lambda:  450.0   K: 10\n",
      "P loss:  0.05046633022446517   E[N]:  3.991852814122441\n",
      "PROCESS #  6    rho:  1.0    lambda:  500.0   K: 10\n",
      "P loss:  0.09200788998782927   E[N]:  5.025862510073811\n",
      "PROCESS #  7    rho:  1.1    lambda:  550.0   K: 10\n",
      "P loss:  0.13928855134453216   E[N]:  5.934682914046122\n",
      "PROCESS #  8    rho:  1.2    lambda:  600.0   K: 10\n",
      "P loss:  0.1935762528141416   E[N]:  6.716904278342822\n",
      "PROCESS #  9    rho:  1.3    lambda:  650.0   K: 10\n",
      "P loss:  0.24532584525387605   E[N]:  7.3257246931181434\n",
      "PROCESS #  10    rho:  1.4    lambda:  700.0   K: 10\n",
      "P loss:  0.2918193598530145   E[N]:  7.758652099658802\n",
      "PROCESS #  11    rho:  1.5    lambda:  750.0   K: 10\n",
      "P loss:  0.33625203033026707   E[N]:  8.114638540556083\n",
      "------------------------------------------------------------------------------------\n",
      "PROCESS #  12    rho:  0.5    lambda:  250.0   K: 25\n",
      "P loss:  0.0   E[N]:  1.0139725232167112\n",
      "PROCESS #  13    rho:  0.6    lambda:  300.0   K: 25\n",
      "P loss:  3.3317341009648703e-06   E[N]:  1.5111989828930183\n",
      "PROCESS #  14    rho:  0.7    lambda:  350.0   K: 25\n",
      "P loss:  6.00377380067471e-05   E[N]:  2.2897316737435225\n",
      "PROCESS #  15    rho:  0.8    lambda:  400.0   K: 25\n",
      "P loss:  0.0004824336653710115   E[N]:  3.865079714216585\n",
      "PROCESS #  16    rho:  0.9    lambda:  450.0   K: 25\n",
      "P loss:  0.006739096555869716   E[N]:  7.093602376418886\n",
      "PROCESS #  17    rho:  1.0    lambda:  500.0   K: 25\n",
      "P loss:  0.040750305342902075   E[N]:  12.672166782610086\n",
      "PROCESS #  18    rho:  1.1    lambda:  550.0   K: 25\n",
      "P loss:  0.09994905478430159   E[N]:  17.46990450113287\n",
      "PROCESS #  19    rho:  1.2    lambda:  600.0   K: 25\n",
      "P loss:  0.16784175087547112   E[N]:  20.24124976302986\n",
      "PROCESS #  20    rho:  1.3    lambda:  650.0   K: 25\n",
      "P loss:  0.23036201239743187   E[N]:  21.70018977901377\n",
      "PROCESS #  21    rho:  1.4    lambda:  700.0   K: 25\n",
      "P loss:  0.2863396372960826   E[N]:  22.505700221734813\n",
      "PROCESS #  22    rho:  1.5    lambda:  750.0   K: 25\n",
      "P loss:  0.33215819190953144   E[N]:  22.98233858676698\n",
      "------------------------------------------------------------------------------------\n",
      "PROCESS #  23    rho:  0.5    lambda:  250.0   K: 50\n",
      "P loss:  0.0   E[N]:  1.0255729533944484\n",
      "PROCESS #  24    rho:  0.6    lambda:  300.0   K: 50\n",
      "P loss:  0.0   E[N]:  1.506547206982976\n",
      "PROCESS #  25    rho:  0.7    lambda:  350.0   K: 50\n",
      "P loss:  0.0   E[N]:  2.3343950154055264\n",
      "PROCESS #  26    rho:  0.8    lambda:  400.0   K: 50\n",
      "P loss:  0.0   E[N]:  3.9925727393190953\n",
      "PROCESS #  27    rho:  0.9    lambda:  450.0   K: 50\n",
      "P loss:  0.0004443605096815046   E[N]:  8.851115345434772\n",
      "PROCESS #  28    rho:  1.0    lambda:  500.0   K: 50\n",
      "P loss:  0.02006281994413341   E[N]:  25.39237930552994\n",
      "PROCESS #  29    rho:  1.1    lambda:  550.0   K: 50\n",
      "P loss:  0.09293899822116757   E[N]:  40.68443789894226\n",
      "PROCESS #  30    rho:  1.2    lambda:  600.0   K: 50\n",
      "P loss:  0.1666636111671286   E[N]:  44.96283265647277\n",
      "PROCESS #  31    rho:  1.3    lambda:  650.0   K: 50\n",
      "P loss:  0.2313280352752884   E[N]:  46.6890220384191\n",
      "PROCESS #  32    rho:  1.4    lambda:  700.0   K: 50\n",
      "P loss:  0.2855483981546284   E[N]:  47.478578616140105\n",
      "PROCESS #  33    rho:  1.5    lambda:  750.0   K: 50\n",
      "P loss:  0.33495245928080414   E[N]:  48.01042296921678\n",
      "------------------------------------------------------------------------------------\n"
     ]
    }
   ],
   "source": [
    "tv, tloss = queue_with_finite_buffer(1000)\n"
   ]
  },
  {
   "cell_type": "code",
   "execution_count": 21,
   "metadata": {},
   "outputs": [
    {
     "data": {
      "image/png": "[encoded data removed]",
      "text/plain": [
       "<Figure size 432x288 with 1 Axes>"
      ]
     },
     "metadata": {
      "needs_background": "light"
     },
     "output_type": "display_data"
    },
    {
     "data": {
      "image/png": "[encoded data removed]",
      "text/plain": [
       "<Figure size 432x288 with 1 Axes>"
      ]
     },
     "metadata": {
      "needs_background": "light"
     },
     "output_type": "display_data"
    }
   ],
   "source": [
    "plot_q5_6(tv,tloss)"
   ]
  },
  {
   "cell_type": "code",
   "execution_count": null,
   "metadata": {},
   "outputs": [],
   "source": []
  },
  {
   "cell_type": "code",
   "execution_count": null,
   "metadata": {},
   "outputs": [],
   "source": []
  },
  {
   "cell_type": "code",
   "execution_count": null,
   "metadata": {},
   "outputs": [],
   "source": []
  },
  {
   "cell_type": "code",
   "execution_count": null,
   "metadata": {},
   "outputs": [],
   "source": []
  },
  {
   "cell_type": "code",
   "execution_count": null,
   "metadata": {},
   "outputs": [],
   "source": []
  },
  {
   "cell_type": "code",
   "execution_count": null,
   "metadata": {},
   "outputs": [],
   "source": []
  },
  {
   "cell_type": "code",
   "execution_count": null,
   "metadata": {},
   "outputs": [],
   "source": [
    "# def main():\n",
    "#     rho_list_second = [0.5, 0.6, 0.7, 0.8, 0.9, 1.0, 1.1, 1.2, 1.3, 1.4, 1.5]\n",
    "#     packet_list = [10, 25, 50]\n",
    "#     queue_with_finite_buffer(100)\n",
    "    \n",
    "\n",
    "# if __name__ == '__main__':\n",
    "#     main()"
   ]
  },
  {
   "cell_type": "code",
   "execution_count": null,
   "metadata": {},
   "outputs": [],
   "source": []
  },
  {
   "cell_type": "code",
   "execution_count": null,
   "metadata": {},
   "outputs": [],
   "source": []
  },
  {
   "cell_type": "code",
   "execution_count": null,
   "metadata": {},
   "outputs": [],
   "source": []
  }
 ],
 "metadata": {
  "kernelspec": {
   "display_name": "Python 3",
   "language": "python",
   "name": "python3"
  },
  "language_info": {
   "codemirror_mode": {
    "name": "ipython",
    "version": 3
   },
   "file_extension": ".py",
   "mimetype": "text/x-python",
   "name": "python",
   "nbconvert_exporter": "python",
   "pygments_lexer": "ipython3",
   "version": "3.8.5"
  }
 },
 "nbformat": 4,
 "nbformat_minor": 5
}

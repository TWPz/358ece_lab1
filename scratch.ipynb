{
 "cells": [
  {
   "cell_type": "code",
   "execution_count": 1,
   "metadata": {},
   "outputs": [],
   "source": [
    "#!/usr/bin/env python\n",
    "# coding: utf-8"
   ]
  },
  {
   "cell_type": "markdown",
   "metadata": {},
   "source": [
    "#specs:\n",
    "    M/M/1 has infinite buffer while M/M/1/K has only size of K packets\n",
    "    \n",
    "    𝐹(𝑥) = 1 − 𝑒^(−𝜆)\n",
    "    𝒙 = − (𝟏/𝝀) 𝒍𝒏(𝟏 − 𝑼)\n",
    "    where U is a uniformly generated number and 𝑥 is the exponential random variable"
   ]
  },
  {
   "cell_type": "code",
   "execution_count": 2,
   "metadata": {},
   "outputs": [],
   "source": [
    "# • λ = Average number of packets generated /arrived (packets per second)\n",
    "# • L = Average length of a packet in bits.\n",
    "# • α = Average number of observer events per second\n",
    "# • C = The transmission rate of the output link in bits per second.\n",
    "# • ρ = Utilization of the queue (= input rate/service rate = L λ/C)\n",
    "# • E[N] = Average number of packets in the buffer/queue\n",
    "# • PIDLE = The proportion of time the server is idle, i.e., no packets in the queue nor a packet is being transmitted.\n",
    "# • PLOSS = The packet loss probability (for M/M/1/K queue). It is the ratio of the total number of packets lost due to\n",
    "# buffer full condition to the total number of generated packets."
   ]
  },
  {
   "cell_type": "code",
   "execution_count": 3,
   "metadata": {},
   "outputs": [],
   "source": [
    "#simulation Time T\n",
    "#queue events with\n",
    "# ----- Packet arrival\n",
    "# ----- Packet departure\n",
    "# ----- Observer\n"
   ]
  },
  {
   "cell_type": "code",
   "execution_count": 32,
   "metadata": {},
   "outputs": [],
   "source": [
    "from random import seed\n",
    "from random import random\n",
    "import numpy as np\n",
    "import math\n",
    "import matplotlib.pyplot as plt\n",
    "\n",
    "\n",
    "seed(358)\n",
    "mil = C_rate = 1000000\n",
    "lambda_alpha_factor = 5"
   ]
  },
  {
   "cell_type": "code",
   "execution_count": 5,
   "metadata": {},
   "outputs": [],
   "source": [
    "#Q1 1000 erv with lamba = 75\n",
    "# get mean and variance of the 1000 rv\n",
    "\n",
    "def exp_rad_var(lambda_value):\n",
    "    return -1 * (math.log(1 - random())) / lambda_value\n",
    "\n",
    "def mean_variance(data):\n",
    "    mean = sum(data) / len(data)\n",
    "    deviations = [(x - mean) ** 2 for x in data]\n",
    "    variance = sum(deviations) / len(data)\n",
    "    return mean,variance\n",
    "\n",
    "def mean_variance_calculator(total_count, lambda_value):\n",
    "    rad_list = [exp_rad_var(lambda_value) for _ in range(total_count)]\n",
    "    expected_mean = 1/lambda_value\n",
    "    expected_variance = expected_mean/lambda_value\n",
    "    mean,variance = mean_variance(rad_list)\n",
    "    return mean,variance,expected_mean,expected_variance"
   ]
  },
  {
   "cell_type": "code",
   "execution_count": 6,
   "metadata": {},
   "outputs": [
    {
     "data": {
      "text/plain": [
       "2894.5269161164233"
      ]
     },
     "execution_count": 6,
     "metadata": {},
     "output_type": "execute_result"
    }
   ],
   "source": [
    "exp_rad_var(1/2000)"
   ]
  },
  {
   "cell_type": "markdown",
   "metadata": {},
   "source": [
    "## Q1"
   ]
  },
  {
   "cell_type": "code",
   "execution_count": 7,
   "metadata": {},
   "outputs": [],
   "source": [
    "m,v,em,ev = mean_variance_calculator(1000,75)"
   ]
  },
  {
   "cell_type": "code",
   "execution_count": 8,
   "metadata": {},
   "outputs": [
    {
     "name": "stdout",
     "output_type": "stream",
     "text": [
      "mean:         0.013663521938766698    variance:         0.00019549101399417157\n",
      "expect mean:  0.013333333333333334    expect variance:  0.00017777777777777779\n"
     ]
    }
   ],
   "source": [
    "print(\"mean:        \",m , \"   variance:        \", v)\n",
    "print(\"expect mean: \",em , \"   expect variance: \", ev)\n"
   ]
  },
  {
   "cell_type": "markdown",
   "metadata": {},
   "source": [
    "## Q2-3-4 M/M/1 Queue"
   ]
  },
  {
   "cell_type": "code",
   "execution_count": 10,
   "metadata": {},
   "outputs": [],
   "source": [
    "def infinite_buffer_event_list(Time,lambda_value,L=2000):\n",
    "    #fix observer rate for all queue\n",
    "    alpha = lambda_alpha_factor * lambda_value\n",
    "    #initialization of time stream:\n",
    "    departureStream = 0 \n",
    "    arrivalStream = 0\n",
    "    observerStream = 0\n",
    "    \n",
    "    #lists to hold times\n",
    "    departureStream_list = []\n",
    "    arrivalStream_list = []\n",
    "    observerStream_list = []\n",
    "    \n",
    "    #get data packets running ...\n",
    "    while observerStream < Time:\n",
    "        observerStream = exp_rad_var(alpha) + observerStream\n",
    "        observerStream_list.append(observerStream)\n",
    "    while arrivalStream < Time:\n",
    "        arrivalStream = exp_rad_var(lambda_value) + arrivalStream\n",
    "        packet_size = exp_rad_var(1/L)\n",
    "        observerStream = packet_size/C_rate\n",
    "        \n",
    "        arrivalStream_list.append(arrivalStream)\n",
    "        #the first packet arrival T is d\n",
    "        # If the queue is idle,then the departure time of packet pkti \n",
    "        # will be its arrival time plus its transmission time (service time)\n",
    "        departureStream = arrivalStream + observerStream if(arrivalStream > departureStream) else departureStream + observerStream\n",
    "        departureStream_list.append(departureStream)\n",
    "    \n",
    "    event_list = []\n",
    "    for d in departureStream_list:\n",
    "        event_list.append((\"Departure\", d))\n",
    "    for a in arrivalStream_list:\n",
    "        event_list.append((\"Arrival\", a))\n",
    "    for o in observerStream_list:\n",
    "        event_list.append((\"Observer\", o))\n",
    "    event_list.sort(key=lambda tup: tup[1], reverse=False)\n",
    "    return event_list,departureStream_list,arrivalStream_list,observerStream_list\n",
    "\n",
    "def infinite_buffer_calculation(data):\n",
    "    a_c = 0 \n",
    "    d_c = 0\n",
    "    o_c = 0 \n",
    "    idle_c = 0\n",
    "    packet_c = 0\n",
    "    avg_packet = []\n",
    "    for key in data:\n",
    "        if(key[0] == 'Arrival'):\n",
    "            a_c = a_c + 1\n",
    "        elif(key[0] == 'Departure'):\n",
    "            d_c = d_c + 1\n",
    "        elif(key[0] == 'Observer'):\n",
    "            o_c = o_c + 1\n",
    "            packets_in_buffer = a_c - d_c\n",
    "            if(packets_in_buffer == 0):\n",
    "                idle_c = idle_c + 1\n",
    "            else:\n",
    "                avg_packet.append(packets_in_buffer)\n",
    "                \n",
    "    p_idle = idle_c / o_c\n",
    "    e_n = sum(avg_packet)/len(avg_packet)\n",
    "    return p_idle, e_n\n",
    "                \n",
    "    \n",
    "    \n",
    "        "
   ]
  },
  {
   "cell_type": "code",
   "execution_count": 30,
   "metadata": {},
   "outputs": [],
   "source": [
    "##### with infinite buffer \n",
    "## due to the accuracy of the adding of decimals, we hardcode the sequence\n",
    "#https://stackoverflow.com/questions/588004/is-floating-point-math-broken\n",
    "rho_list = [0.25, 0.35, 0.45, 0.55, 0.65, 0.75, 0.85, 0.95]\n",
    "\n",
    "def queue_with_infinite_buffer(Time,L=2000,C=C_rate):\n",
    "    # start processing\n",
    "    round_index = 0\n",
    "    total_avg = []\n",
    "    total_p_idle = []\n",
    "    for rho in rho_list:\n",
    "        round_index = round_index + 1 \n",
    "        # ---------- getting lambda value\n",
    "        lambda_value = rho / L * C\n",
    "        print(\"PROCESS # \", round_index, \"   rho: \", rho, \"   lambda: \", lambda_value)\n",
    "        eve,_,_,_ = infinite_buffer_event_list(Time,lambda_value,L)\n",
    "        pidle,e_n = infinite_buffer_calculation(eve)\n",
    "        print(\"P idle: \", pidle, \"  E[N]: \", e_n )\n",
    "        total_avg.append(e_n)\n",
    "        total_p_idle.append(pidle)\n",
    "        \n",
    "    return total_avg,total_p_idle\n",
    "#         m,v,em,ev = mean_variance_calculator(1000,lambda_value)\n",
    "#         print(\"mean:        \",m , \"   variance:        \", v)\n",
    "#         print(\"expect mean: \",em , \"   expect variance: \", ev)\n",
    "        # ---------- getting departure time value\n",
    "        \n",
    "        \n",
    "        \n"
   ]
  },
  {
   "cell_type": "code",
   "execution_count": 34,
   "metadata": {},
   "outputs": [
    {
     "name": "stdout",
     "output_type": "stream",
     "text": [
      "PROCESS #  1    rho:  0.25    lambda:  125.0\n",
      "P idle:  0.7475702099108598   E[N]:  1.3354533718104495\n",
      "PROCESS #  2    rho:  0.35    lambda:  175.0\n",
      "P idle:  0.6488875429955776   E[N]:  1.5416673447136744\n",
      "PROCESS #  3    rho:  0.45    lambda:  225.0\n",
      "P idle:  0.5484445382945329   E[N]:  1.817665956046331\n",
      "PROCESS #  4    rho:  0.55    lambda:  275.0\n",
      "P idle:  0.4521260402236818   E[N]:  2.205203637654322\n",
      "PROCESS #  5    rho:  0.65    lambda:  325.0\n",
      "P idle:  0.3491271759068676   E[N]:  2.862893062734046\n",
      "PROCESS #  6    rho:  0.75    lambda:  375.0\n",
      "P idle:  0.24550737194329506   E[N]:  4.072569126248742\n",
      "PROCESS #  7    rho:  0.85    lambda:  425.0\n",
      "P idle:  0.1486243985388114   E[N]:  6.855969819491395\n",
      "PROCESS #  8    rho:  0.95    lambda:  475.0\n",
      "P idle:  0.05250367661001808   E[N]:  20.172405941170897\n"
     ]
    }
   ],
   "source": [
    "EN,PIDLE = queue_with_infinite_buffer(1000)"
   ]
  },
  {
   "cell_type": "code",
   "execution_count": 38,
   "metadata": {},
   "outputs": [
    {
     "data": {
      "image/png": "[encoded data removed]",
      "text/plain": [
       "<Figure size 432x288 with 1 Axes>"
      ]
     },
     "metadata": {
      "needs_background": "light"
     },
     "output_type": "display_data"
    },
    {
     "data": {
      "image/png": "[encoded data removed]",
      "text/plain": [
       "<Figure size 432x288 with 1 Axes>"
      ]
     },
     "metadata": {
      "needs_background": "light"
     },
     "output_type": "display_data"
    }
   ],
   "source": [
    "plt.title(\"E[N] - Rho \")\n",
    "plt.plot(rho_list, EN)\n",
    "plt.xlabel('Rho values')\n",
    "plt.ylabel('Average # of packets ')\n",
    "plt.show()\n",
    "plt.close()\n",
    "\n",
    "\n",
    "plt.title(\"Pidle - Rho\")\n",
    "plt.xlabel('Rho values')\n",
    "plt.ylabel('Percent of idle system')\n",
    "plt.plot(rho_list, PIDLE)\n",
    "plt.show()\n",
    "plt.close()"
   ]
  },
  {
   "cell_type": "code",
   "execution_count": null,
   "metadata": {},
   "outputs": [],
   "source": []
  },
  {
   "cell_type": "code",
   "execution_count": null,
   "metadata": {},
   "outputs": [],
   "source": []
  }
 ],
 "metadata": {
  "kernelspec": {
   "display_name": "Python 3",
   "language": "python",
   "name": "python3"
  },
  "language_info": {
   "codemirror_mode": {
    "name": "ipython",
    "version": 3
   },
   "file_extension": ".py",
   "mimetype": "text/x-python",
   "name": "python",
   "nbconvert_exporter": "python",
   "pygments_lexer": "ipython3",
   "version": "3.8.5"
  }
 },
 "nbformat": 4,
 "nbformat_minor": 5
}

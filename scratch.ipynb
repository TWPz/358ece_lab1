{
 "cells": [
  {
   "cell_type": "code",
   "execution_count": 1,
   "metadata": {},
   "outputs": [],
   "source": [
    "#!/usr/bin/env python\n",
    "# coding: utf-8"
   ]
  },
  {
   "cell_type": "markdown",
   "metadata": {},
   "source": [
    "#specs:\n",
    "    M/M/1 has infinite buffer while M/M/1/K has only size of K packets\n",
    "    \n",
    "    𝐹(𝑥) = 1 − 𝑒^(−𝜆)\n",
    "    𝒙 = − (𝟏/𝝀) 𝒍𝒏(𝟏 − 𝑼)\n",
    "    where U is a uniformly generated number and 𝑥 is the exponential random variable"
   ]
  },
  {
   "cell_type": "code",
   "execution_count": 2,
   "metadata": {},
   "outputs": [],
   "source": [
    "# • λ = Average number of packets generated /arrived (packets per second)\n",
    "# • L = Average length of a packet in bits.\n",
    "# • α = Average number of observer events per second\n",
    "# • C = The transmission rate of the output link in bits per second.\n",
    "# • ρ = Utilization of the queue (= input rate/service rate = L λ/C)\n",
    "# • E[N] = Average number of packets in the buffer/queue\n",
    "# • PIDLE = The proportion of time the server is idle, i.e., no packets in the queue nor a packet is being transmitted.\n",
    "# • PLOSS = The packet loss probability (for M/M/1/K queue). It is the ratio of the total number of packets lost due to\n",
    "# buffer full condition to the total number of generated packets."
   ]
  },
  {
   "cell_type": "code",
   "execution_count": 3,
   "metadata": {},
   "outputs": [],
   "source": [
    "#simulation Time T\n",
    "#queue events with\n",
    "# ----- Packet arrival\n",
    "# ----- Packet departure\n",
    "# ----- Observer\n"
   ]
  },
  {
   "cell_type": "code",
   "execution_count": 27,
   "metadata": {},
   "outputs": [],
   "source": [
    "from random import seed\n",
    "from random import random\n",
    "import numpy as np\n",
    "import math\n",
    "\n",
    "seed(358)\n",
    "mil = C_rate = 1000000\n",
    "lambda_alpha_factor = 5"
   ]
  },
  {
   "cell_type": "code",
   "execution_count": 28,
   "metadata": {},
   "outputs": [],
   "source": [
    "#Q1 1000 erv with lamba = 75\n",
    "# get mean and variance of the 1000 rv\n",
    "\n",
    "def exp_rad_var(lambda_value):\n",
    "    return -1 * (math.log(1 - random())) / lambda_value\n",
    "\n",
    "def mean_variance(data):\n",
    "    mean = sum(data) / len(data)\n",
    "    deviations = [(x - mean) ** 2 for x in data]\n",
    "    variance = sum(deviations) / len(data)\n",
    "    return mean,variance\n",
    "\n",
    "def mean_variance_calculator(total_count, lambda_value):\n",
    "    rad_list = [exp_rad_var(lambda_value) for _ in range(total_count)]\n",
    "    expected_mean = 1/lambda_value\n",
    "    expected_variance = expected_mean/lambda_value\n",
    "    mean,variance = mean_variance(rad_list)\n",
    "    return mean,variance,expected_mean,expected_variance"
   ]
  },
  {
   "cell_type": "code",
   "execution_count": 29,
   "metadata": {},
   "outputs": [
    {
     "data": {
      "text/plain": [
       "2894.5269161164233"
      ]
     },
     "execution_count": 29,
     "metadata": {},
     "output_type": "execute_result"
    }
   ],
   "source": [
    "exp_rad_var(1/2000)"
   ]
  },
  {
   "cell_type": "markdown",
   "metadata": {},
   "source": [
    "## Q1"
   ]
  },
  {
   "cell_type": "code",
   "execution_count": 30,
   "metadata": {},
   "outputs": [],
   "source": [
    "m,v,em,ev = mean_variance_calculator(1000,75)"
   ]
  },
  {
   "cell_type": "code",
   "execution_count": 31,
   "metadata": {},
   "outputs": [
    {
     "name": "stdout",
     "output_type": "stream",
     "text": [
      "mean:         0.013663521938766698    variance:         0.00019549101399417157\n",
      "expect mean:  0.013333333333333334    expect variance:  0.00017777777777777779\n"
     ]
    }
   ],
   "source": [
    "print(\"mean:        \",m , \"   variance:        \", v)\n",
    "print(\"expect mean: \",em , \"   expect variance: \", ev)\n"
   ]
  },
  {
   "cell_type": "markdown",
   "metadata": {},
   "source": [
    "## Q2-3-4 M/M/1 Queue"
   ]
  },
  {
   "cell_type": "code",
   "execution_count": 32,
   "metadata": {},
   "outputs": [],
   "source": [
    "# class Packet:\n",
    "#     def __init__(self,packet_size,arrival_time,service_time,departure_time):\n",
    "#         self.packet_size = packet_size\n",
    "#         self.arrival_time = arrival_time\n",
    "#         self.service_time = service_time\n",
    "#         self.departure_time = departure_time\n",
    "\n",
    "# class Event:\n",
    "#     def __init__(self,event,timestamp,packet_size,drop_status):\n",
    "#         self.event = event \n",
    "#         self.timestamp = timestamp\n",
    "#         self.packet_size = packet_size\n",
    "#         self.drop_status\n",
    "        \n"
   ]
  },
  {
   "cell_type": "code",
   "execution_count": null,
   "metadata": {},
   "outputs": [],
   "source": []
  },
  {
   "cell_type": "code",
   "execution_count": 101,
   "metadata": {},
   "outputs": [],
   "source": [
    "def infinite_buffer_event_list(Time,lambda_value,L):\n",
    "    #fix observer rate for all queue\n",
    "    alpha = lambda_alpha_factor * lambda_value\n",
    "    #initialization of time stream:\n",
    "    departureStream = 0 \n",
    "    arrivalStream = 0\n",
    "    observerStream = 0\n",
    "    \n",
    "    #lists to hold times\n",
    "    departureStream_list = []\n",
    "    arrivalStream_list = []\n",
    "    observerStream_list = []\n",
    "    \n",
    "    #get data packets running ...\n",
    "    while observerStream < Time:\n",
    "        observerStream = exp_rad_var(alpha) + observerStream\n",
    "        observerStream_list.append(observerStream)\n",
    "    while arrivalStream < Time:\n",
    "        arrivalStream = exp_rad_var(lambda_value) + arrivalStream\n",
    "        packet_size = exp_rad_var(1/L)\n",
    "        observerStream = packet_size/C_rate\n",
    "        \n",
    "        arrivalStream_list.append(arrivalStream)\n",
    "        #the first packet arrival T is d\n",
    "        # If the queue is idle,then the departure time of packet pkti \n",
    "        # will be its arrival time plus its transmission time (service time)\n",
    "        departureStream = arrivalStream + observerStream if(arrivalStream > departureStream) else departureStream + observerStream\n",
    "        departureStream_list.append(departureStream)\n",
    "    \n",
    "    event_list = []\n",
    "    for d in departureStream_list:\n",
    "        event_list.append((\"Departure\", d))\n",
    "    for a in arrivalStream_list:\n",
    "        event_list.append((\"Arrival\", a))\n",
    "    for o in observerStream_list:\n",
    "        event_list.append((\"Observer\", o))\n",
    "    event_list.sort(key=lambda tup: tup[1], reverse=False)\n",
    "    return event_list,departureStream_list,arrivalStream_list,observerStream_list\n",
    "        "
   ]
  },
  {
   "cell_type": "code",
   "execution_count": 130,
   "metadata": {},
   "outputs": [],
   "source": [
    "eve,_,_,_ = infinite_buffer_event_list(10,75,2000)"
   ]
  },
  {
   "cell_type": "code",
   "execution_count": 135,
   "metadata": {},
   "outputs": [],
   "source": [
    "def infinite_buffer_calculation(data):\n",
    "    a_c = 0 \n",
    "    d_c = 0\n",
    "    o_c = 0 \n",
    "    idle_c = 0\n",
    "    packet_c = 0\n",
    "    avg_packet = []\n",
    "    for key in data:\n",
    "        if(key[0] == 'Arrival'):\n",
    "            a_c = a_c + 1\n",
    "        elif(key[0] == 'Departure'):\n",
    "            d_c = d_c + 1\n",
    "        elif(key[0] == 'Observer'):\n",
    "            o_c = o_c + 1\n",
    "            packets_in_buffer = a_c - d_c\n",
    "            if(packets_in_buffer == 0):\n",
    "                idle_c = idle_c + 1\n",
    "            else:\n",
    "                avg_packet.append(packets_in_buffer)\n",
    "                \n",
    "    p_idle = idle_c / o_c\n",
    "    e_n = sum(avg_packet)/len(avg_packet)\n",
    "    return p_idle, e_n\n",
    "                \n",
    "    \n",
    "    "
   ]
  },
  {
   "cell_type": "code",
   "execution_count": 136,
   "metadata": {},
   "outputs": [],
   "source": [
    "pi, en = infinite_buffer_calculation(eve)"
   ]
  },
  {
   "cell_type": "code",
   "execution_count": 137,
   "metadata": {},
   "outputs": [
    {
     "data": {
      "text/plain": [
       "0.8635046113306983"
      ]
     },
     "execution_count": 137,
     "metadata": {},
     "output_type": "execute_result"
    }
   ],
   "source": [
    "pi"
   ]
  },
  {
   "cell_type": "code",
   "execution_count": 138,
   "metadata": {},
   "outputs": [
    {
     "data": {
      "text/plain": [
       "1.167953667953668"
      ]
     },
     "execution_count": 138,
     "metadata": {},
     "output_type": "execute_result"
    }
   ],
   "source": [
    "en"
   ]
  },
  {
   "cell_type": "code",
   "execution_count": 52,
   "metadata": {},
   "outputs": [],
   "source": [
    "##### with infinite buffer \n",
    "## due to the accuracy of the adding of decimals, we hardcode the sequence\n",
    "#https://stackoverflow.com/questions/588004/is-floating-point-math-broken\n",
    "rho_list = [0.25, 0.35, 0.45, 0.55, 0.65, 0.75, 0.85, 0.95]\n",
    "\n",
    "def queue_with_infinite_buffer(Time,L=2000,C=C_rate):\n",
    "    # start processing\n",
    "    round_index = 0\n",
    "    for rho in rho_list:\n",
    "        print(\"PROCESS # \", round_index)\n",
    "        round_index = round_index + 1 \n",
    "        # ---------- getting lambda value\n",
    "        lambda_value = rho / L * C\n",
    "        m,v,em,ev = mean_variance_calculator(1000,lambda_value)\n",
    "        print(\"mean:        \",m , \"   variance:        \", v)\n",
    "        print(\"expect mean: \",em , \"   expect variance: \", ev)\n",
    "        # ---------- getting departure time value\n",
    "        \n",
    "        \n",
    "        \n"
   ]
  },
  {
   "cell_type": "code",
   "execution_count": 53,
   "metadata": {},
   "outputs": [
    {
     "name": "stdout",
     "output_type": "stream",
     "text": [
      "PROCESS #  0\n",
      "mean:         0.008148042568266053    variance:         6.503045045302086e-05\n",
      "expect mean:  0.008    expect variance:  6.4e-05\n",
      "PROCESS #  1\n",
      "mean:         0.00581709635132625    variance:         3.450922884411609e-05\n",
      "expect mean:  0.005714285714285714    expect variance:  3.265306122448979e-05\n",
      "PROCESS #  2\n",
      "mean:         0.004647646400851207    variance:         2.0886286667405803e-05\n",
      "expect mean:  0.0044444444444444444    expect variance:  1.9753086419753087e-05\n",
      "PROCESS #  3\n",
      "mean:         0.0034324145417087334    variance:         1.1363335494340213e-05\n",
      "expect mean:  0.0036363636363636364    expect variance:  1.3223140495867768e-05\n",
      "PROCESS #  4\n",
      "mean:         0.003155054361356706    variance:         1.0778568463660468e-05\n",
      "expect mean:  0.003076923076923077    expect variance:  9.467455621301774e-06\n",
      "PROCESS #  5\n",
      "mean:         0.002640711312516952    variance:         7.413469116594212e-06\n",
      "expect mean:  0.0026666666666666666    expect variance:  7.111111111111111e-06\n",
      "PROCESS #  6\n",
      "mean:         0.0023423464123452707    variance:         5.3087770819077145e-06\n",
      "expect mean:  0.002352941176470588    expect variance:  5.536332179930795e-06\n",
      "PROCESS #  7\n",
      "mean:         0.001987611522290133    variance:         3.866708081658623e-06\n",
      "expect mean:  0.002105263157894737    expect variance:  4.43213296398892e-06\n"
     ]
    }
   ],
   "source": [
    "queue_with_infinite_buffer(1000)"
   ]
  },
  {
   "cell_type": "code",
   "execution_count": null,
   "metadata": {},
   "outputs": [],
   "source": []
  }
 ],
 "metadata": {
  "kernelspec": {
   "display_name": "Python 3",
   "language": "python",
   "name": "python3"
  },
  "language_info": {
   "codemirror_mode": {
    "name": "ipython",
    "version": 3
   },
   "file_extension": ".py",
   "mimetype": "text/x-python",
   "name": "python",
   "nbconvert_exporter": "python",
   "pygments_lexer": "ipython3",
   "version": "3.8.5"
  }
 },
 "nbformat": 4,
 "nbformat_minor": 5
}

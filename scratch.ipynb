{
 "cells": [
  {
   "cell_type": "code",
   "execution_count": 1,
   "metadata": {},
   "outputs": [],
   "source": [
    "#!/usr/bin/env python\n",
    "# coding: utf-8"
   ]
  },
  {
   "cell_type": "markdown",
   "metadata": {},
   "source": [
    "#specs:\n",
    "    M/M/1 has infinite buffer while M/M/1/K has only size of K packets\n",
    "    \n",
    "    𝐹(𝑥) = 1 − 𝑒^(−𝜆)\n",
    "    𝒙 = − (𝟏/𝝀) 𝒍𝒏(𝟏 − 𝑼)\n",
    "    where U is a uniformly generated number and 𝑥 is the exponential random variable"
   ]
  },
  {
   "cell_type": "code",
   "execution_count": 2,
   "metadata": {},
   "outputs": [],
   "source": [
    "# • λ = Average number of packets generated /arrived (packets per second)\n",
    "# • L = Average length of a packet in bits.\n",
    "# • α = Average number of observer events per second\n",
    "# • C = The transmission rate of the output link in bits per second.\n",
    "# • ρ = Utilization of the queue (= input rate/service rate = L λ/C)\n",
    "# • E[N] = Average number of packets in the buffer/queue\n",
    "# • PIDLE = The proportion of time the server is idle, i.e., no packets in the queue nor a packet is being transmitted.\n",
    "# • PLOSS = The packet loss probability (for M/M/1/K queue). It is the ratio of the total number of packets lost due to\n",
    "# buffer full condition to the total number of generated packets."
   ]
  },
  {
   "cell_type": "code",
   "execution_count": 3,
   "metadata": {},
   "outputs": [],
   "source": [
    "#simulation Time T\n",
    "#queue events with\n",
    "# ----- Packet arrival\n",
    "# ----- Packet departure\n",
    "# ----- Observer\n"
   ]
  },
  {
   "cell_type": "code",
   "execution_count": 1,
   "metadata": {},
   "outputs": [],
   "source": [
    "from random import seed\n",
    "from random import random\n",
    "import numpy as np\n",
    "import math\n",
    "import matplotlib.pyplot as plt\n",
    "import heapq\n",
    "\n",
    "seed(358)\n",
    "L = 2000\n",
    "mil = C_rate = 1000000\n",
    "lambda_alpha_factor = 5"
   ]
  },
  {
   "cell_type": "code",
   "execution_count": 2,
   "metadata": {},
   "outputs": [],
   "source": [
    "#Q1 1000 erv with lamba = 75\n",
    "# get mean and variance of the 1000 rv\n",
    "\n",
    "def exp_rad_var(lambda_value):\n",
    "    return -1 * (math.log(1 - random())) / lambda_value\n",
    "\n",
    "def mean_variance(data):\n",
    "    mean = sum(data) / len(data)\n",
    "    deviations = [(x - mean) ** 2 for x in data]\n",
    "    variance = sum(deviations) / len(data)\n",
    "    return mean,variance\n",
    "\n",
    "def mean_variance_calculator(total_count, lambda_value):\n",
    "    rad_list = [exp_rad_var(lambda_value) for _ in range(total_count)]\n",
    "    expected_mean = 1/lambda_value\n",
    "    expected_variance = expected_mean/lambda_value\n",
    "    mean,variance = mean_variance(rad_list)\n",
    "    return mean,variance,expected_mean,expected_variance"
   ]
  },
  {
   "cell_type": "code",
   "execution_count": 12,
   "metadata": {},
   "outputs": [
    {
     "data": {
      "text/plain": [
       "4930.217959548662"
      ]
     },
     "execution_count": 12,
     "metadata": {},
     "output_type": "execute_result"
    }
   ],
   "source": [
    "exp_rad_var(1/2000)"
   ]
  },
  {
   "cell_type": "markdown",
   "metadata": {},
   "source": [
    "## Q1"
   ]
  },
  {
   "cell_type": "code",
   "execution_count": 13,
   "metadata": {},
   "outputs": [],
   "source": [
    "m,v,em,ev = mean_variance_calculator(1000,75)"
   ]
  },
  {
   "cell_type": "code",
   "execution_count": 14,
   "metadata": {},
   "outputs": [
    {
     "name": "stdout",
     "output_type": "stream",
     "text": [
      "mean:         0.013025460501683463    variance:         0.00018041717458079174\n",
      "expect mean:  0.013333333333333334    expect variance:  0.00017777777777777779\n"
     ]
    }
   ],
   "source": [
    "print(\"mean:        \",m , \"   variance:        \", v)\n",
    "print(\"expect mean: \",em , \"   expect variance: \", ev)\n"
   ]
  },
  {
   "cell_type": "markdown",
   "metadata": {},
   "source": [
    "## Q2-3-4 M/M/1 Queue"
   ]
  },
  {
   "cell_type": "code",
   "execution_count": 16,
   "metadata": {},
   "outputs": [],
   "source": [
    "def infinite_buffer_event_list(Time,lambda_value,L=2000):\n",
    "    #get observer rate from lambda_value (5 times as default)\n",
    "    alpha = lambda_alpha_factor * lambda_value\n",
    "    #initialization of time stream:\n",
    "    departureStream = 0 \n",
    "    arrivalStream = 0\n",
    "    observerStream = 0\n",
    "    \n",
    "    #lists to hold times\n",
    "    departureStream_list = []\n",
    "    arrivalStream_list = []\n",
    "    observerStream_list = []\n",
    "    \n",
    "    #get data packets running ...\n",
    "    #start of simulation \n",
    "    while observerStream < Time: \n",
    "        # set up timestamps where observer checks the queue\n",
    "        observerStream = exp_rad_var(alpha) + observerStream\n",
    "        observerStream_list.append(observerStream) \n",
    "        \n",
    "    while arrivalStream < Time:\n",
    "        # set up arrival time and package size for each request throughout the queue\n",
    "        arrivalStream = exp_rad_var(lambda_value) + arrivalStream\n",
    "        packet_size = exp_rad_var(1/L)\n",
    "        #observerStream = packet_size/C_rate\n",
    "        service_time = packet_size/C_rate \n",
    "        \n",
    "        arrivalStream_list.append(arrivalStream)\n",
    "        # the first packet arrival T is d\n",
    "        # If the queue is idle, then the departure time of packet \n",
    "        # will be its arrival time plus its transmission time (service time)\n",
    "        # otherwise it would simply be departure time plus service time\n",
    "        departureStream = arrivalStream + service_time if(arrivalStream > departureStream) else departureStream + service_time\n",
    "        departureStream_list.append(departureStream)\n",
    "    \n",
    "    event_list = []\n",
    "    for d in departureStream_list:\n",
    "        event_list.append((d,\"Departure\"))\n",
    "    for a in arrivalStream_list:\n",
    "        event_list.append((a,\"Arrival\"))\n",
    "    for o in observerStream_list:\n",
    "        event_list.append((o,\"Observer\"))\n",
    "        \n",
    "    # put all the events in a list then sort them according to time\n",
    "    event_list.sort(key=lambda tup: tup[0], reverse=False)\n",
    "    return event_list,departureStream_list,arrivalStream_list,observerStream_list\n",
    "\n",
    "def infinite_buffer_calculation(data):\n",
    "    arrival_count = 0 \n",
    "    departure_count = 0 \n",
    "    observer_count = 0 \n",
    "    idle_c = 0\n",
    "    avg_packet_list = []\n",
    "    for key in data:\n",
    "        if(key[1] == 'Arrival'):\n",
    "            arrival_count = arrival_count + 1\n",
    "        elif(key[1] == 'Departure'):\n",
    "            departure_count = departure_count + 1\n",
    "        elif(key[1] == 'Observer'):\n",
    "            observer_count = observer_count + 1\n",
    "            packets_in_buffer = arrival_count - departure_count\n",
    "            if(packets_in_buffer == 0):\n",
    "                idle_c = idle_c + 1\n",
    "            else:\n",
    "                avg_packet_list.append(packets_in_buffer)\n",
    "                \n",
    "    p_idle = idle_c / observer_count\n",
    "    avg_packet = sum(avg_packet_list)/len(avg_packet_list)\n",
    "    return p_idle, avg_packet\n",
    "                \n",
    "    \n",
    "    \n",
    "        "
   ]
  },
  {
   "cell_type": "code",
   "execution_count": 17,
   "metadata": {},
   "outputs": [],
   "source": [
    "def plot_q3_4():\n",
    "    plt.title(\"E[N] - Rho \")\n",
    "    plt.plot(rho_list, EN)\n",
    "    plt.xlabel('Rho values')\n",
    "    plt.ylabel('Average # of packets ')\n",
    "    plt.show()\n",
    "    plt.close()\n",
    "\n",
    "\n",
    "    plt.title(\"Pidle - Rho\")\n",
    "    plt.xlabel('Rho values')\n",
    "    plt.ylabel('Percent of idle system')\n",
    "    plt.plot(rho_list, PIDLE)\n",
    "    plt.show()\n",
    "    plt.close()"
   ]
  },
  {
   "cell_type": "code",
   "execution_count": 24,
   "metadata": {},
   "outputs": [],
   "source": [
    "##### with infinite buffer \n",
    "## due to the accuracy of the adding of decimals, we hardcode the sequence\n",
    "#https://stackoverflow.com/questions/588004/is-floating-point-math-broken\n",
    "rho_list = [0.25, 0.35, 0.45, 0.55, 0.65, 0.75, 0.85, 0.95]\n",
    "\n",
    "def queue_with_infinite_buffer(Time,L=2000,C=C_rate):\n",
    "    round_index = 0\n",
    "    # two lists to hold the records of packets and IDLE ratio for each Rho value\n",
    "    total_avg_packet = []\n",
    "    total_p_idle = []\n",
    "    # start processing\n",
    "    for rho in rho_list:\n",
    "        round_index = round_index + 1 \n",
    "        # ---------- getting lambda value -----------\n",
    "        lambda_value = rho / L * C\n",
    "        print(\"PROCESS # \", round_index, \"   rho: \", rho, \"   lambda: \", lambda_value)\n",
    "        # generate events list from DES generator \n",
    "        events,_,_,_ = infinite_buffer_event_list(Time,lambda_value,L)\n",
    "        pidle,avg_packet = infinite_buffer_calculation(events)\n",
    "        print(\"P idle: \", pidle, \"  E[N]: \", avg_packet )\n",
    "        total_avg_packet.append(avg_packet)\n",
    "        total_p_idle.append(pidle)\n",
    "        \n",
    "    return total_avg_packet,total_p_idle\n",
    "      \n",
    "    "
   ]
  },
  {
   "cell_type": "code",
   "execution_count": 25,
   "metadata": {
    "scrolled": false
   },
   "outputs": [
    {
     "name": "stdout",
     "output_type": "stream",
     "text": [
      "PROCESS #  1    rho:  0.25    lambda:  125.0\n",
      "P idle:  0.7489666574813998   E[N]:  1.3321292727133485\n",
      "PROCESS #  2    rho:  0.35    lambda:  175.0\n",
      "P idle:  0.6503871747228909   E[N]:  1.5371600615243644\n",
      "PROCESS #  3    rho:  0.45    lambda:  225.0\n",
      "P idle:  0.5486016818409374   E[N]:  1.8237304562458263\n",
      "PROCESS #  4    rho:  0.55    lambda:  275.0\n",
      "P idle:  0.45121851021611586   E[N]:  2.2289010724023988\n",
      "PROCESS #  5    rho:  0.65    lambda:  325.0\n",
      "P idle:  0.3495127304923113   E[N]:  2.8494232763273435\n",
      "PROCESS #  6    rho:  0.75    lambda:  375.0\n",
      "P idle:  0.24861339701337207   E[N]:  4.020493556826302\n",
      "PROCESS #  7    rho:  0.85    lambda:  425.0\n",
      "P idle:  0.15318842741770392   E[N]:  6.624661138175598\n",
      "PROCESS #  8    rho:  0.95    lambda:  475.0\n",
      "P idle:  0.04916098600723997   E[N]:  20.294525977361697\n"
     ]
    },
    {
     "data": {
      "image/png": "[encoded data removed]",
      "text/plain": [
       "<Figure size 432x288 with 1 Axes>"
      ]
     },
     "metadata": {
      "needs_background": "light"
     },
     "output_type": "display_data"
    },
    {
     "data": {
      "image/png": "[encoded data removed]",
      "text/plain": [
       "<Figure size 432x288 with 1 Axes>"
      ]
     },
     "metadata": {
      "needs_background": "light"
     },
     "output_type": "display_data"
    }
   ],
   "source": [
    "EN,PIDLE = queue_with_infinite_buffer(1000)\n",
    "plot_q3_4()"
   ]
  },
  {
   "cell_type": "code",
   "execution_count": 21,
   "metadata": {},
   "outputs": [
    {
     "name": "stdout",
     "output_type": "stream",
     "text": [
      "PROCESS #  1    rho:  0.25    lambda:  125.0\n",
      "P idle:  0.7504504417933109   E[N]:  1.3321524495316577\n",
      "PROCESS #  2    rho:  0.35    lambda:  175.0\n",
      "P idle:  0.6502349711879547   E[N]:  1.5331470633889692\n",
      "PROCESS #  3    rho:  0.45    lambda:  225.0\n",
      "P idle:  0.5517132698563064   E[N]:  1.8105382112190311\n",
      "PROCESS #  4    rho:  0.55    lambda:  275.0\n",
      "P idle:  0.450858032620287   E[N]:  2.2239545792404414\n",
      "PROCESS #  5    rho:  0.65    lambda:  325.0\n",
      "P idle:  0.3500319011320362   E[N]:  2.8421762922078293\n",
      "PROCESS #  6    rho:  0.75    lambda:  375.0\n",
      "P idle:  0.24766981270738675   E[N]:  4.084954889310832\n",
      "PROCESS #  7    rho:  0.85    lambda:  425.0\n",
      "P idle:  0.14843857353951567   E[N]:  6.74587922639373\n",
      "PROCESS #  8    rho:  0.95    lambda:  475.0\n",
      "P idle:  0.04987482242299663   E[N]:  19.81379765414088\n"
     ]
    },
    {
     "data": {
      "image/png": "[encoded data removed]",
      "text/plain": [
       "<Figure size 432x288 with 1 Axes>"
      ]
     },
     "metadata": {
      "needs_background": "light"
     },
     "output_type": "display_data"
    },
    {
     "data": {
      "image/png": "[encoded data removed]",
      "text/plain": [
       "<Figure size 432x288 with 1 Axes>"
      ]
     },
     "metadata": {
      "needs_background": "light"
     },
     "output_type": "display_data"
    }
   ],
   "source": [
    "EN,PIDLE = queue_with_infinite_buffer(2000)\n",
    "plot_q3_4()"
   ]
  },
  {
   "cell_type": "markdown",
   "metadata": {},
   "source": [
    "## Q4"
   ]
  },
  {
   "cell_type": "code",
   "execution_count": 60,
   "metadata": {},
   "outputs": [
    {
     "name": "stdout",
     "output_type": "stream",
     "text": [
      "PROCESS #  1    rho:  1.2    lambda:  600.0\n",
      "P idle:  9.660429249514564e-06   E[N]:  48777.762639627865\n"
     ]
    }
   ],
   "source": [
    "rho_list = [1.2]\n",
    "EN,PIDLE = queue_with_infinite_buffer(1000)\n",
    "# EN,PIDLE = queue_with_infinite_buffer(2000)\n",
    "# EN,PIDLE = queue_with_infinite_buffer(3000)"
   ]
  },
  {
   "cell_type": "markdown",
   "metadata": {},
   "source": [
    "## Q5 M/M/1/K queue"
   ]
  },
  {
   "cell_type": "code",
   "execution_count": null,
   "metadata": {},
   "outputs": [],
   "source": []
  },
  {
   "cell_type": "code",
   "execution_count": 41,
   "metadata": {},
   "outputs": [],
   "source": [
    "def finite_buffer_event_list(Time,lambda_value,L=2000):\n",
    "    #get observer rate from lambda_value (5 times as default)\n",
    "    alpha = lambda_alpha_factor * lambda_value\n",
    "    #initialization of time stream:\n",
    "    \n",
    "    #departureStream = 0 \n",
    "    arrivalStream = 0\n",
    "    observerStream = 0\n",
    "    \n",
    "    event_list = []\n",
    "    #get data packets running ...\n",
    "    #start of simulation \n",
    "    \n",
    "    \n",
    "    # set up timestamps where observer checks the queue  \n",
    "    while observerStream < Time:\n",
    "        observerStream = exp_rad_var(alpha) + observerStream\n",
    "        event_list.append((observerStream,\"Observer\"))\n",
    "        \n",
    "    # set up arrival time and package size for each request throughout the queue\n",
    "    while arrivalStream < Time:\n",
    "        arrivalStream = exp_rad_var(lambda_value) + arrivalStream\n",
    "        event_list.append((arrivalStream,\"Arrival\"))\n",
    "        \n",
    "    # put all the events in a list then sort them according to time\n",
    "    event_list.sort(key=lambda tup: tup[0], reverse=False)\n",
    "    return event_list\n",
    "\n",
    "def finite_buffer_calculation(event_list,K):\n",
    "    arrival_count = 0 \n",
    "    departure_count = 0\n",
    "    observer_count = 0 \n",
    "    \n",
    "    idle_c = 0\n",
    "    loss_c = 0\n",
    "    \n",
    "    avg_packet_list = []\n",
    "\n",
    "    number_in_queue = 0\n",
    "    #packet_count = 0\n",
    "    packet_size = 0\n",
    "    service_time = 0\n",
    "    \n",
    "    #calculations for generating departure stream \n",
    "    departureStream_list = []\n",
    "    departureStream = 0 \n",
    "\n",
    "    while len(event_list) > 0:\n",
    "        # grab the first item(the smallest timestamp)\n",
    "        event = heapq.heappop(event_list)\n",
    "        if(event[1] == 'Arrival'):\n",
    "            # packet_count = packet_count + 1 \n",
    "            # if queue is not FULL, we update number of packets in the buffer\n",
    "            # then fire a departure event based on arrival time\n",
    "            if(number_in_queue < K): \n",
    "                number_in_queue = number_in_queue + 1\n",
    "                arrival_count = arrival_count + 1           \n",
    "                service_time = (exp_rad_var(1/L))/C_rate\n",
    "                if(departureStream < event[0]):\n",
    "                    departureStream = service_time + event[0]\n",
    "                else:\n",
    "                    departureStream = departureStream + service_time\n",
    "                \n",
    "                # departure event added to list\n",
    "                event_list.append((departureStream,\"Departure\"))\n",
    "                \n",
    "            # when queue is full, the packet is lost \n",
    "            else:\n",
    "                loss_c = loss_c + 1\n",
    "   \n",
    "        elif(event[1] == 'Departure'):\n",
    "            #print(\"departure\")\n",
    "            departure_count = departure_count + 1\n",
    "            number_in_queue = number_in_queue - 1\n",
    "            \n",
    "            \n",
    "        elif(event[1] == 'Observer'):\n",
    "            #print(\"observer\")\n",
    "            observer_count = observer_count + 1\n",
    "            avg_packet_list.append(arrival_count - departure_count)\n",
    "    \n",
    "    p_loss = loss_c/(loss_c + arrival_count)\n",
    "    #p_new_loss = loss_c / packet_count\n",
    "    avg_packet = sum(avg_packet_list)/len(avg_packet_list)\n",
    "    \n",
    "    return p_loss, avg_packet\n",
    "        "
   ]
  },
  {
   "cell_type": "code",
   "execution_count": 75,
   "metadata": {},
   "outputs": [
    {
     "data": {
      "text/plain": [
       "[1, 3, 4, 5]"
      ]
     },
     "execution_count": 75,
     "metadata": {},
     "output_type": "execute_result"
    }
   ],
   "source": [
    "a= [1,3,4,5,6,63,9]\n",
    "a[0:4]"
   ]
  },
  {
   "cell_type": "code",
   "execution_count": 78,
   "metadata": {},
   "outputs": [],
   "source": [
    "def plot_q5_6(EN,PIDLE):\n",
    "    EN_10 = []\n",
    "    EN_25 = []\n",
    "    EN_50 = []\n",
    "    EN_10 = EN[0:11]\n",
    "    EN_25 = EN[11:12+10]\n",
    "    EN_50 = EN[12+10:]\n",
    "    print(rho_list_second)\n",
    "    print(EN_10)\n",
    "    print(EN_25)\n",
    "    print(EN_50)\n",
    "    plt.title(\"E[N] - Rho \")\n",
    "    plt.plot(rho_list_second, EN_10)\n",
    "    plt.plot(rho_list_second, EN_25)\n",
    "    plt.plot(rho_list_second, EN_50)\n",
    "    plt.xlabel('Rho values')\n",
    "    plt.ylabel('Average # of packets ')\n",
    "    plt.show()\n",
    "    plt.close()\n",
    "    \n",
    "    \n",
    "    \n",
    "    PIDLE_10 = []\n",
    "    PIDLE_25 = []\n",
    "    PIDLE_50 = []\n",
    "    PIDLE_10 = PIDLE[0:11]\n",
    "    PIDLE_25 = PIDLE[11:12+10]\n",
    "    PIDLE_50 = PIDLE[12+10:]\n",
    "    plt.title(\"Pidle - Rho\")\n",
    "    plt.xlabel('Rho values')\n",
    "    plt.ylabel('Percent of idle system')\n",
    "    plt.plot(rho_list_second, PIDLE_10)\n",
    "    plt.plot(rho_list_second, PIDLE_25)\n",
    "    plt.plot(rho_list_second, PIDLE_50)\n",
    "    plt.show()\n",
    "    plt.close()"
   ]
  },
  {
   "cell_type": "code",
   "execution_count": 79,
   "metadata": {},
   "outputs": [
    {
     "name": "stdout",
     "output_type": "stream",
     "text": [
      "[0.5, 0.6, 0.7, 0.8, 0.9, 1.0, 1.1, 1.2, 1.3, 1.4, 1.5]\n",
      "[1.0128708307055987, 1.4810283207775974, 2.128268107885644, 2.9457685592380702, 3.9759512826752257, 4.996502916434974, 5.897625041774231, 6.707665936126591, 7.3085026886525295, 7.770047243671124, 8.14105014592617]\n",
      "[1.0216773515569182, 1.5071863988219913, 2.2969889916437087, 4.019067211934568, 7.117265097360173, 12.43746550961729, 17.271901320270885, 20.204436646029034, 21.707001572197345, 22.505496829838904, 23.007956175157478]\n",
      "[1.0124572207532982, 1.5142610647915287, 2.3659290175955174, 3.9415486389025243, 8.88193616312435, 24.059124572654706, 40.449839882620566, 45.14599852478642, 46.6061091931742, 47.51163353638758, 48.024667249224734]\n"
     ]
    },
    {
     "data": {
      "image/png": "[encoded data removed]",
      "text/plain": [
       "<Figure size 432x288 with 1 Axes>"
      ]
     },
     "metadata": {
      "needs_background": "light"
     },
     "output_type": "display_data"
    },
    {
     "data": {
      "image/png": "[encoded data removed]",
      "text/plain": [
       "<Figure size 432x288 with 1 Axes>"
      ]
     },
     "metadata": {
      "needs_background": "light"
     },
     "output_type": "display_data"
    }
   ],
   "source": [
    "plot_q5_6(tv,tloss)"
   ]
  },
  {
   "cell_type": "code",
   "execution_count": null,
   "metadata": {},
   "outputs": [],
   "source": []
  },
  {
   "cell_type": "code",
   "execution_count": null,
   "metadata": {},
   "outputs": [],
   "source": []
  },
  {
   "cell_type": "code",
   "execution_count": 54,
   "metadata": {},
   "outputs": [
    {
     "data": {
      "text/plain": [
       "11"
      ]
     },
     "execution_count": 54,
     "metadata": {},
     "output_type": "execute_result"
    }
   ],
   "source": [
    "len(rho_list_second)"
   ]
  },
  {
   "cell_type": "code",
   "execution_count": null,
   "metadata": {},
   "outputs": [],
   "source": []
  },
  {
   "cell_type": "code",
   "execution_count": 62,
   "metadata": {},
   "outputs": [],
   "source": [
    "rho_list_second = [0.5, 0.6, 0.7, 0.8, 0.9, 1.0, 1.1, 1.2, 1.3, 1.4, 1.5]\n",
    "packet_list = [10, 25, 50]\n",
    "def queue_with_finite_buffer(Time,L=2000,C=C_rate):\n",
    "    # start processing\n",
    "    round_index = 0\n",
    "    total_avg = []\n",
    "    total_p_loss = []\n",
    "    for K in packet_list:\n",
    "        for rho in rho_list_second:\n",
    "            round_index = round_index + 1 \n",
    "            # ---------- getting lambda value\n",
    "            lambda_value = rho / L * C\n",
    "            print(\"PROCESS # \", round_index, \"   rho: \", rho, \"   lambda: \", lambda_value, \"  K:\", K)\n",
    "            eve = finite_buffer_event_list(Time,lambda_value,L)\n",
    "            #print(\"长度: \" , len(eve))\n",
    "            ploss,e_n = finite_buffer_calculation(eve,K)\n",
    "            print(\"P loss: \", ploss, \"  E[N]: \", e_n )\n",
    "            total_avg.append(e_n)\n",
    "            total_p_loss.append(ploss)\n",
    "        print(\"------------------------------------------------------------------------------------\")\n",
    "    return total_avg,total_p_loss"
   ]
  },
  {
   "cell_type": "code",
   "execution_count": 63,
   "metadata": {},
   "outputs": [
    {
     "name": "stdout",
     "output_type": "stream",
     "text": [
      "PROCESS #  1    rho:  0.5    lambda:  250.0   K: 10\n",
      "P loss:  0.0005270050145325625   E[N]:  1.0128708307055987\n",
      "PROCESS #  2    rho:  0.6    lambda:  300.0   K: 10\n",
      "P loss:  0.0021905330297038944   E[N]:  1.4810283207775974\n",
      "PROCESS #  3    rho:  0.7    lambda:  350.0   K: 10\n",
      "P loss:  0.008862911009312748   E[N]:  2.128268107885644\n",
      "PROCESS #  4    rho:  0.8    lambda:  400.0   K: 10\n",
      "P loss:  0.0235495273572058   E[N]:  2.9457685592380702\n",
      "PROCESS #  5    rho:  0.9    lambda:  450.0   K: 10\n",
      "P loss:  0.051021019887517956   E[N]:  3.9759512826752257\n",
      "PROCESS #  6    rho:  1.0    lambda:  500.0   K: 10\n",
      "P loss:  0.08938258072774986   E[N]:  4.996502916434974\n",
      "PROCESS #  7    rho:  1.1    lambda:  550.0   K: 10\n",
      "P loss:  0.13812926605638107   E[N]:  5.897625041774231\n",
      "PROCESS #  8    rho:  1.2    lambda:  600.0   K: 10\n",
      "P loss:  0.19200757942213578   E[N]:  6.707665936126591\n",
      "PROCESS #  9    rho:  1.3    lambda:  650.0   K: 10\n",
      "P loss:  0.2439126409772991   E[N]:  7.3085026886525295\n",
      "PROCESS #  10    rho:  1.4    lambda:  700.0   K: 10\n",
      "P loss:  0.2920065906152385   E[N]:  7.770047243671124\n",
      "PROCESS #  11    rho:  1.5    lambda:  750.0   K: 10\n",
      "P loss:  0.33818827140755897   E[N]:  8.14105014592617\n",
      "------------------------------------------------------------------------------------\n",
      "PROCESS #  12    rho:  0.5    lambda:  250.0   K: 25\n",
      "P loss:  0.0   E[N]:  1.0216773515569182\n",
      "PROCESS #  13    rho:  0.6    lambda:  300.0   K: 25\n",
      "P loss:  0.0   E[N]:  1.5071863988219913\n",
      "PROCESS #  14    rho:  0.7    lambda:  350.0   K: 25\n",
      "P loss:  5.425440174527844e-05   E[N]:  2.2969889916437087\n",
      "PROCESS #  15    rho:  0.8    lambda:  400.0   K: 25\n",
      "P loss:  0.0010779868595398093   E[N]:  4.019067211934568\n",
      "PROCESS #  16    rho:  0.9    lambda:  450.0   K: 25\n",
      "P loss:  0.006763083504555318   E[N]:  7.117265097360173\n",
      "PROCESS #  17    rho:  1.0    lambda:  500.0   K: 25\n",
      "P loss:  0.03933078134115447   E[N]:  12.43746550961729\n",
      "PROCESS #  18    rho:  1.1    lambda:  550.0   K: 25\n",
      "P loss:  0.09847839074430262   E[N]:  17.271901320270885\n",
      "PROCESS #  19    rho:  1.2    lambda:  600.0   K: 25\n",
      "P loss:  0.16575467739319863   E[N]:  20.204436646029034\n",
      "PROCESS #  20    rho:  1.3    lambda:  650.0   K: 25\n",
      "P loss:  0.23220162786937004   E[N]:  21.707001572197345\n",
      "PROCESS #  21    rho:  1.4    lambda:  700.0   K: 25\n",
      "P loss:  0.2859038545319497   E[N]:  22.505496829838904\n",
      "PROCESS #  22    rho:  1.5    lambda:  750.0   K: 25\n",
      "P loss:  0.3347046102035768   E[N]:  23.007956175157478\n",
      "------------------------------------------------------------------------------------\n",
      "PROCESS #  23    rho:  0.5    lambda:  250.0   K: 50\n",
      "P loss:  0.0   E[N]:  1.0124572207532982\n",
      "PROCESS #  24    rho:  0.6    lambda:  300.0   K: 50\n",
      "P loss:  0.0   E[N]:  1.5142610647915287\n",
      "PROCESS #  25    rho:  0.7    lambda:  350.0   K: 50\n",
      "P loss:  0.0   E[N]:  2.3659290175955174\n",
      "PROCESS #  26    rho:  0.8    lambda:  400.0   K: 50\n",
      "P loss:  0.0   E[N]:  3.9415486389025243\n",
      "PROCESS #  27    rho:  0.9    lambda:  450.0   K: 50\n",
      "P loss:  0.0007404722567504163   E[N]:  8.88193616312435\n",
      "PROCESS #  28    rho:  1.0    lambda:  500.0   K: 50\n",
      "P loss:  0.01834215026130047   E[N]:  24.059124572654706\n",
      "PROCESS #  29    rho:  1.1    lambda:  550.0   K: 50\n",
      "P loss:  0.09220558599064393   E[N]:  40.449839882620566\n",
      "PROCESS #  30    rho:  1.2    lambda:  600.0   K: 50\n",
      "P loss:  0.16885156708856125   E[N]:  45.14599852478642\n",
      "PROCESS #  31    rho:  1.3    lambda:  650.0   K: 50\n",
      "P loss:  0.23098006963713366   E[N]:  46.6061091931742\n",
      "PROCESS #  32    rho:  1.4    lambda:  700.0   K: 50\n",
      "P loss:  0.2860759927511706   E[N]:  47.51163353638758\n",
      "PROCESS #  33    rho:  1.5    lambda:  750.0   K: 50\n",
      "P loss:  0.33622082453866237   E[N]:  48.024667249224734\n",
      "------------------------------------------------------------------------------------\n"
     ]
    },
    {
     "ename": "ValueError",
     "evalue": "not enough values to unpack (expected 3, got 0)",
     "output_type": "error",
     "traceback": [
      "\u001b[0;31m---------------------------------------------------------------------------\u001b[0m",
      "\u001b[0;31mValueError\u001b[0m                                Traceback (most recent call last)",
      "\u001b[0;32m<ipython-input-63-ecb9e51b40c9>\u001b[0m in \u001b[0;36m<module>\u001b[0;34m\u001b[0m\n\u001b[1;32m      1\u001b[0m \u001b[0mtv\u001b[0m\u001b[0;34m,\u001b[0m \u001b[0mtloss\u001b[0m \u001b[0;34m=\u001b[0m \u001b[0mqueue_with_finite_buffer\u001b[0m\u001b[0;34m(\u001b[0m\u001b[0;36m1000\u001b[0m\u001b[0;34m)\u001b[0m\u001b[0;34m\u001b[0m\u001b[0;34m\u001b[0m\u001b[0m\n\u001b[0;32m----> 2\u001b[0;31m \u001b[0mplot_q5_6\u001b[0m\u001b[0;34m(\u001b[0m\u001b[0mtv\u001b[0m\u001b[0;34m,\u001b[0m\u001b[0mtloss\u001b[0m\u001b[0;34m)\u001b[0m\u001b[0;34m\u001b[0m\u001b[0;34m\u001b[0m\u001b[0m\n\u001b[0m",
      "\u001b[0;32m<ipython-input-61-0248027b5738>\u001b[0m in \u001b[0;36mplot_q5_6\u001b[0;34m(EN, PIDLE)\u001b[0m\n\u001b[1;32m      1\u001b[0m \u001b[0;32mdef\u001b[0m \u001b[0mplot_q5_6\u001b[0m\u001b[0;34m(\u001b[0m\u001b[0mEN\u001b[0m\u001b[0;34m,\u001b[0m\u001b[0mPIDLE\u001b[0m\u001b[0;34m)\u001b[0m\u001b[0;34m:\u001b[0m\u001b[0;34m\u001b[0m\u001b[0;34m\u001b[0m\u001b[0m\n\u001b[0;32m----> 2\u001b[0;31m     \u001b[0mEN_10\u001b[0m\u001b[0;34m,\u001b[0m\u001b[0mEN_25\u001b[0m\u001b[0;34m,\u001b[0m\u001b[0mEN_50\u001b[0m \u001b[0;34m=\u001b[0m \u001b[0;34m[\u001b[0m\u001b[0;34m]\u001b[0m\u001b[0;34m\u001b[0m\u001b[0;34m\u001b[0m\u001b[0m\n\u001b[0m\u001b[1;32m      3\u001b[0m     \u001b[0mEN_10\u001b[0m \u001b[0;34m=\u001b[0m \u001b[0mEN\u001b[0m\u001b[0;34m[\u001b[0m\u001b[0;36m0\u001b[0m\u001b[0;34m:\u001b[0m\u001b[0;36m11\u001b[0m\u001b[0;34m+\u001b[0m\u001b[0;36m1\u001b[0m\u001b[0;34m]\u001b[0m\u001b[0;34m\u001b[0m\u001b[0;34m\u001b[0m\u001b[0m\n\u001b[1;32m      4\u001b[0m     \u001b[0mEN_25\u001b[0m \u001b[0;34m=\u001b[0m \u001b[0mEN\u001b[0m\u001b[0;34m[\u001b[0m\u001b[0;36m11\u001b[0m\u001b[0;34m+\u001b[0m\u001b[0;36m1\u001b[0m\u001b[0;34m:\u001b[0m\u001b[0;36m12\u001b[0m\u001b[0;34m+\u001b[0m\u001b[0;36m11\u001b[0m\u001b[0;34m+\u001b[0m\u001b[0;36m1\u001b[0m\u001b[0;34m]\u001b[0m\u001b[0;34m\u001b[0m\u001b[0;34m\u001b[0m\u001b[0m\n\u001b[1;32m      5\u001b[0m     \u001b[0mEN_50\u001b[0m \u001b[0;34m=\u001b[0m \u001b[0mEN\u001b[0m\u001b[0;34m[\u001b[0m\u001b[0;36m12\u001b[0m\u001b[0;34m+\u001b[0m\u001b[0;36m11\u001b[0m\u001b[0;34m+\u001b[0m\u001b[0;36m1\u001b[0m\u001b[0;34m:\u001b[0m\u001b[0;34m]\u001b[0m\u001b[0;34m\u001b[0m\u001b[0;34m\u001b[0m\u001b[0m\n",
      "\u001b[0;31mValueError\u001b[0m: not enough values to unpack (expected 3, got 0)"
     ]
    }
   ],
   "source": [
    "tv, tloss = queue_with_finite_buffer(1000)\n"
   ]
  },
  {
   "cell_type": "code",
   "execution_count": 53,
   "metadata": {},
   "outputs": [
    {
     "data": {
      "image/png": "[encoded data removed]",
      "text/plain": [
       "<Figure size 432x288 with 1 Axes>"
      ]
     },
     "metadata": {
      "needs_background": "light"
     },
     "output_type": "display_data"
    },
    {
     "data": {
      "image/png": "[encoded data removed]",
      "text/plain": [
       "<Figure size 432x288 with 1 Axes>"
      ]
     },
     "metadata": {
      "needs_background": "light"
     },
     "output_type": "display_data"
    }
   ],
   "source": [
    "rho_list = rho_list_second\n",
    "EN,PIDLE = tv, tloss\n",
    "plot_q3_4()\n"
   ]
  },
  {
   "cell_type": "code",
   "execution_count": null,
   "metadata": {},
   "outputs": [],
   "source": []
  },
  {
   "cell_type": "code",
   "execution_count": null,
   "metadata": {},
   "outputs": [],
   "source": []
  },
  {
   "cell_type": "code",
   "execution_count": null,
   "metadata": {},
   "outputs": [],
   "source": []
  },
  {
   "cell_type": "code",
   "execution_count": 29,
   "metadata": {
    "scrolled": false
   },
   "outputs": [
    {
     "name": "stdout",
     "output_type": "stream",
     "text": [
      "PROCESS #  1    rho:  0.5    lambda:  250.0   K: 10\n",
      "P loss:  0.00045080266811349057   E[N]:  1.0238943552314939\n",
      "PROCESS #  2    rho:  0.6    lambda:  300.0   K: 10\n",
      "P loss:  0.002262103756493539   E[N]:  1.4728618618538492\n",
      "PROCESS #  3    rho:  0.7    lambda:  350.0   K: 10\n",
      "P loss:  0.008700207843069893   E[N]:  2.1012180238736793\n",
      "PROCESS #  4    rho:  0.8    lambda:  400.0   K: 10\n",
      "P loss:  0.023093982948600492   E[N]:  2.957866134209569\n",
      "PROCESS #  5    rho:  0.9    lambda:  450.0   K: 10\n",
      "P loss:  0.05014514822037596   E[N]:  3.9508875673873174\n",
      "PROCESS #  6    rho:  1.0    lambda:  500.0   K: 10\n",
      "P loss:  0.08947609732853085   E[N]:  4.987616431033979\n",
      "PROCESS #  7    rho:  1.1    lambda:  550.0   K: 10\n",
      "P loss:  0.13946827662708444   E[N]:  5.9404002310702255\n",
      "PROCESS #  8    rho:  1.2    lambda:  600.0   K: 10\n",
      "P loss:  0.19214627847890375   E[N]:  6.70291603573163\n",
      "PROCESS #  9    rho:  1.3    lambda:  650.0   K: 10\n",
      "P loss:  0.24282898214778362   E[N]:  7.312416008017675\n",
      "PROCESS #  10    rho:  1.4    lambda:  700.0   K: 10\n",
      "P loss:  0.29247142857142855   E[N]:  7.770082647602037\n",
      "PROCESS #  11    rho:  1.5    lambda:  750.0   K: 10\n",
      "P loss:  0.3378975423865397   E[N]:  8.13991788750583\n",
      "------------------------------------------------------------------------------------\n",
      "PROCESS #  12    rho:  0.5    lambda:  250.0   K: 25\n",
      "P loss:  0.0   E[N]:  1.0177098491996226\n",
      "PROCESS #  13    rho:  0.6    lambda:  300.0   K: 25\n",
      "P loss:  0.0   E[N]:  1.4986510167719358\n",
      "PROCESS #  14    rho:  0.7    lambda:  350.0   K: 25\n",
      "P loss:  8.585729944450328e-06   E[N]:  2.352205254085488\n",
      "PROCESS #  15    rho:  0.8    lambda:  400.0   K: 25\n",
      "P loss:  0.0006653459799095529   E[N]:  3.9406913687306555\n",
      "PROCESS #  16    rho:  0.9    lambda:  450.0   K: 25\n",
      "P loss:  0.007022768907497557   E[N]:  7.213063382128012\n",
      "PROCESS #  17    rho:  1.0    lambda:  500.0   K: 25\n",
      "P loss:  0.03851550974881363   E[N]:  12.580863987579578\n",
      "PROCESS #  18    rho:  1.1    lambda:  550.0   K: 25\n",
      "P loss:  0.09986205994122554   E[N]:  17.344126795836416\n",
      "PROCESS #  19    rho:  1.2    lambda:  600.0   K: 25\n",
      "P loss:  0.1667765645423268   E[N]:  20.223741588514898\n",
      "PROCESS #  20    rho:  1.3    lambda:  650.0   K: 25\n",
      "P loss:  0.2288659412528875   E[N]:  21.61317888755327\n",
      "PROCESS #  21    rho:  1.4    lambda:  700.0   K: 25\n",
      "P loss:  0.28636523358825733   E[N]:  22.534831657132866\n",
      "PROCESS #  22    rho:  1.5    lambda:  750.0   K: 25\n",
      "P loss:  0.3322359787527995   E[N]:  22.985192948332028\n",
      "------------------------------------------------------------------------------------\n",
      "PROCESS #  23    rho:  0.5    lambda:  250.0   K: 50\n",
      "P loss:  0.0   E[N]:  1.0159180715752725\n",
      "PROCESS #  24    rho:  0.6    lambda:  300.0   K: 50\n",
      "P loss:  0.0   E[N]:  1.5242358170293635\n",
      "PROCESS #  25    rho:  0.7    lambda:  350.0   K: 50\n",
      "P loss:  0.0   E[N]:  2.319662478694939\n",
      "PROCESS #  26    rho:  0.8    lambda:  400.0   K: 50\n",
      "P loss:  0.0   E[N]:  3.974785665903945\n",
      "PROCESS #  27    rho:  0.9    lambda:  450.0   K: 50\n",
      "P loss:  0.0007767714272398204   E[N]:  9.068134317898151\n",
      "PROCESS #  28    rho:  1.0    lambda:  500.0   K: 50\n",
      "P loss:  0.02079199619931252   E[N]:  25.223662496438553\n",
      "PROCESS #  29    rho:  1.1    lambda:  550.0   K: 50\n",
      "P loss:  0.09323847427951179   E[N]:  40.6847892270854\n",
      "PROCESS #  30    rho:  1.2    lambda:  600.0   K: 50\n",
      "P loss:  0.16805884283094513   E[N]:  45.021838207241586\n",
      "PROCESS #  31    rho:  1.3    lambda:  650.0   K: 50\n",
      "P loss:  0.22887320694121013   E[N]:  46.59652217695399\n",
      "PROCESS #  32    rho:  1.4    lambda:  700.0   K: 50\n",
      "P loss:  0.28479207218949454   E[N]:  47.46279673409248\n",
      "PROCESS #  33    rho:  1.5    lambda:  750.0   K: 50\n",
      "P loss:  0.33316757898217053   E[N]:  47.992924261745536\n",
      "------------------------------------------------------------------------------------\n"
     ]
    }
   ],
   "source": [
    "tv, tloss = queue_with_finite_buffer(1000)"
   ]
  },
  {
   "cell_type": "code",
   "execution_count": null,
   "metadata": {},
   "outputs": [],
   "source": []
  },
  {
   "cell_type": "code",
   "execution_count": null,
   "metadata": {},
   "outputs": [],
   "source": []
  },
  {
   "cell_type": "code",
   "execution_count": null,
   "metadata": {},
   "outputs": [],
   "source": []
  },
  {
   "cell_type": "code",
   "execution_count": null,
   "metadata": {},
   "outputs": [],
   "source": [
    "# def main():\n",
    "#     rho_list_second = [0.5, 0.6, 0.7, 0.8, 0.9, 1.0, 1.1, 1.2, 1.3, 1.4, 1.5]\n",
    "#     packet_list = [10, 25, 50]\n",
    "#     queue_with_finite_buffer(100)\n",
    "    \n",
    "\n",
    "# if __name__ == '__main__':\n",
    "#     main()"
   ]
  },
  {
   "cell_type": "code",
   "execution_count": null,
   "metadata": {},
   "outputs": [],
   "source": []
  },
  {
   "cell_type": "code",
   "execution_count": null,
   "metadata": {},
   "outputs": [],
   "source": []
  },
  {
   "cell_type": "code",
   "execution_count": null,
   "metadata": {},
   "outputs": [],
   "source": []
  }
 ],
 "metadata": {
  "kernelspec": {
   "display_name": "Python 3",
   "language": "python",
   "name": "python3"
  },
  "language_info": {
   "codemirror_mode": {
    "name": "ipython",
    "version": 3
   },
   "file_extension": ".py",
   "mimetype": "text/x-python",
   "name": "python",
   "nbconvert_exporter": "python",
   "pygments_lexer": "ipython3",
   "version": "3.8.5"
  }
 },
 "nbformat": 4,
 "nbformat_minor": 5
}

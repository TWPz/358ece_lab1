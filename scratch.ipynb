{
 "cells": [
  {
   "cell_type": "code",
   "execution_count": 1,
   "metadata": {},
   "outputs": [],
   "source": [
    "#!/usr/bin/env python\n",
    "# coding: utf-8"
   ]
  },
  {
   "cell_type": "markdown",
   "metadata": {},
   "source": [
    "#specs:\n",
    "    M/M/1 has infinite buffer while M/M/1/K has only size of K packets\n",
    "    \n",
    "    𝐹(𝑥) = 1 − 𝑒^(−𝜆)\n",
    "    𝒙 = − (𝟏/𝝀) 𝒍𝒏(𝟏 − 𝑼)\n",
    "    where U is a uniformly generated number and 𝑥 is the exponential random variable"
   ]
  },
  {
   "cell_type": "code",
   "execution_count": 2,
   "metadata": {},
   "outputs": [],
   "source": [
    "# • λ = Average number of packets generated /arrived (packets per second)\n",
    "# • L = Average length of a packet in bits.\n",
    "# • α = Average number of observer events per second\n",
    "# • C = The transmission rate of the output link in bits per second.\n",
    "# • ρ = Utilization of the queue (= input rate/service rate = L λ/C)\n",
    "# • E[N] = Average number of packets in the buffer/queue\n",
    "# • PIDLE = The proportion of time the server is idle, i.e., no packets in the queue nor a packet is being transmitted.\n",
    "# • PLOSS = The packet loss probability (for M/M/1/K queue). It is the ratio of the total number of packets lost due to\n",
    "# buffer full condition to the total number of generated packets."
   ]
  },
  {
   "cell_type": "code",
   "execution_count": 3,
   "metadata": {},
   "outputs": [],
   "source": [
    "#simulation Time T\n",
    "#queue events with\n",
    "# ----- Packet arrival\n",
    "# ----- Packet departure\n",
    "# ----- Observer\n"
   ]
  },
  {
   "cell_type": "code",
   "execution_count": 22,
   "metadata": {},
   "outputs": [],
   "source": [
    "from random import seed\n",
    "from random import random\n",
    "import numpy as np\n",
    "import math\n",
    "import matplotlib.pyplot as plt\n",
    "\n",
    "\n",
    "seed(358)\n",
    "L = 2000\n",
    "mil = C_rate = 1000000\n",
    "lambda_alpha_factor = 5"
   ]
  },
  {
   "cell_type": "code",
   "execution_count": 5,
   "metadata": {},
   "outputs": [],
   "source": [
    "#Q1 1000 erv with lamba = 75\n",
    "# get mean and variance of the 1000 rv\n",
    "\n",
    "def exp_rad_var(lambda_value):\n",
    "    return -1 * (math.log(1 - random())) / lambda_value\n",
    "\n",
    "def mean_variance(data):\n",
    "    mean = sum(data) / len(data)\n",
    "    deviations = [(x - mean) ** 2 for x in data]\n",
    "    variance = sum(deviations) / len(data)\n",
    "    return mean,variance\n",
    "\n",
    "def mean_variance_calculator(total_count, lambda_value):\n",
    "    rad_list = [exp_rad_var(lambda_value) for _ in range(total_count)]\n",
    "    expected_mean = 1/lambda_value\n",
    "    expected_variance = expected_mean/lambda_value\n",
    "    mean,variance = mean_variance(rad_list)\n",
    "    return mean,variance,expected_mean,expected_variance"
   ]
  },
  {
   "cell_type": "code",
   "execution_count": 7,
   "metadata": {},
   "outputs": [
    {
     "data": {
      "text/plain": [
       "547.952923144056"
      ]
     },
     "execution_count": 7,
     "metadata": {},
     "output_type": "execute_result"
    }
   ],
   "source": [
    "exp_rad_var(1/2000)"
   ]
  },
  {
   "cell_type": "markdown",
   "metadata": {},
   "source": [
    "## Q1"
   ]
  },
  {
   "cell_type": "code",
   "execution_count": 8,
   "metadata": {},
   "outputs": [],
   "source": [
    "m,v,em,ev = mean_variance_calculator(1000,75)"
   ]
  },
  {
   "cell_type": "code",
   "execution_count": 9,
   "metadata": {},
   "outputs": [
    {
     "name": "stdout",
     "output_type": "stream",
     "text": [
      "mean:         0.013672464877394836    variance:         0.00019539186355121212\n",
      "expect mean:  0.013333333333333334    expect variance:  0.00017777777777777779\n"
     ]
    }
   ],
   "source": [
    "print(\"mean:        \",m , \"   variance:        \", v)\n",
    "print(\"expect mean: \",em , \"   expect variance: \", ev)\n"
   ]
  },
  {
   "cell_type": "markdown",
   "metadata": {},
   "source": [
    "## Q2-3-4 M/M/1 Queue"
   ]
  },
  {
   "cell_type": "code",
   "execution_count": 10,
   "metadata": {},
   "outputs": [],
   "source": [
    "def infinite_buffer_event_list(Time,lambda_value,L=2000):\n",
    "    #fix observer rate for all queue\n",
    "    alpha = lambda_alpha_factor * lambda_value\n",
    "    #initialization of time stream:\n",
    "    departureStream = 0 \n",
    "    arrivalStream = 0\n",
    "    observerStream = 0\n",
    "    \n",
    "    #lists to hold times\n",
    "    departureStream_list = []\n",
    "    arrivalStream_list = []\n",
    "    observerStream_list = []\n",
    "    \n",
    "    #get data packets running ...\n",
    "    while observerStream < Time:\n",
    "        observerStream = exp_rad_var(alpha) + observerStream\n",
    "        observerStream_list.append(observerStream)\n",
    "    while arrivalStream < Time:\n",
    "        arrivalStream = exp_rad_var(lambda_value) + arrivalStream\n",
    "        packet_size = exp_rad_var(1/L)\n",
    "        observerStream = packet_size/C_rate\n",
    "        \n",
    "        arrivalStream_list.append(arrivalStream)\n",
    "        #the first packet arrival T is d\n",
    "        # If the queue is idle,then the departure time of packet pkti \n",
    "        # will be its arrival time plus its transmission time (service time)\n",
    "        departureStream = arrivalStream + observerStream if(arrivalStream > departureStream) else departureStream + observerStream\n",
    "        departureStream_list.append(departureStream)\n",
    "    \n",
    "    event_list = []\n",
    "    for d in departureStream_list:\n",
    "        event_list.append((\"Departure\", d))\n",
    "    for a in arrivalStream_list:\n",
    "        event_list.append((\"Arrival\", a))\n",
    "    for o in observerStream_list:\n",
    "        event_list.append((\"Observer\", o))\n",
    "    event_list.sort(key=lambda tup: tup[1], reverse=False)\n",
    "    return event_list,departureStream_list,arrivalStream_list,observerStream_list\n",
    "\n",
    "def infinite_buffer_calculation(data):\n",
    "    a_c = 0 \n",
    "    d_c = 0\n",
    "    o_c = 0 \n",
    "    idle_c = 0\n",
    "    packet_c = 0\n",
    "    avg_packet = []\n",
    "    for key in data:\n",
    "        if(key[0] == 'Arrival'):\n",
    "            a_c = a_c + 1\n",
    "        elif(key[0] == 'Departure'):\n",
    "            d_c = d_c + 1\n",
    "        elif(key[0] == 'Observer'):\n",
    "            o_c = o_c + 1\n",
    "            packets_in_buffer = a_c - d_c\n",
    "            if(packets_in_buffer == 0):\n",
    "                idle_c = idle_c + 1\n",
    "            else:\n",
    "                avg_packet.append(packets_in_buffer)\n",
    "                \n",
    "    p_idle = idle_c / o_c\n",
    "    e_n = sum(avg_packet)/len(avg_packet)\n",
    "    return p_idle, e_n\n",
    "                \n",
    "    \n",
    "    \n",
    "        "
   ]
  },
  {
   "cell_type": "code",
   "execution_count": 11,
   "metadata": {},
   "outputs": [],
   "source": [
    "def plot_q3_4():\n",
    "    plt.title(\"E[N] - Rho \")\n",
    "    plt.plot(rho_list, EN)\n",
    "    plt.xlabel('Rho values')\n",
    "    plt.ylabel('Average # of packets ')\n",
    "    plt.show()\n",
    "    plt.close()\n",
    "\n",
    "\n",
    "    plt.title(\"Pidle - Rho\")\n",
    "    plt.xlabel('Rho values')\n",
    "    plt.ylabel('Percent of idle system')\n",
    "    plt.plot(rho_list, PIDLE)\n",
    "    plt.show()\n",
    "    plt.close()"
   ]
  },
  {
   "cell_type": "code",
   "execution_count": 12,
   "metadata": {},
   "outputs": [],
   "source": [
    "##### with infinite buffer \n",
    "## due to the accuracy of the adding of decimals, we hardcode the sequence\n",
    "#https://stackoverflow.com/questions/588004/is-floating-point-math-broken\n",
    "rho_list = [0.25, 0.35, 0.45, 0.55, 0.65, 0.75, 0.85, 0.95]\n",
    "\n",
    "def queue_with_infinite_buffer(Time,L=2000,C=C_rate):\n",
    "    # start processing\n",
    "    round_index = 0\n",
    "    total_avg = []\n",
    "    total_p_idle = []\n",
    "    for rho in rho_list:\n",
    "        round_index = round_index + 1 \n",
    "        # ---------- getting lambda value\n",
    "        lambda_value = rho / L * C\n",
    "        print(\"PROCESS # \", round_index, \"   rho: \", rho, \"   lambda: \", lambda_value)\n",
    "        eve,_,_,_ = infinite_buffer_event_list(Time,lambda_value,L)\n",
    "        pidle,e_n = infinite_buffer_calculation(eve)\n",
    "        print(\"P idle: \", pidle, \"  E[N]: \", e_n )\n",
    "        total_avg.append(e_n)\n",
    "        total_p_idle.append(pidle)\n",
    "        \n",
    "    return total_avg,total_p_idle\n",
    "#         m,v,em,ev = mean_variance_calculator(1000,lambda_value)\n",
    "#         print(\"mean:        \",m , \"   variance:        \", v)\n",
    "#         print(\"expect mean: \",em , \"   expect variance: \", ev)\n",
    "        # ---------- getting departure time value\n",
    "        \n",
    "        \n",
    "        \n"
   ]
  },
  {
   "cell_type": "code",
   "execution_count": 13,
   "metadata": {
    "scrolled": true
   },
   "outputs": [
    {
     "name": "stdout",
     "output_type": "stream",
     "text": [
      "PROCESS #  1    rho:  0.25    lambda:  125.0\n",
      "P idle:  0.7484601622899495   E[N]:  1.3352616939939292\n",
      "PROCESS #  2    rho:  0.35    lambda:  175.0\n",
      "P idle:  0.6509841163180576   E[N]:  1.5453396462413966\n",
      "PROCESS #  3    rho:  0.45    lambda:  225.0\n",
      "P idle:  0.5502846703865608   E[N]:  1.8154244373815034\n",
      "PROCESS #  4    rho:  0.55    lambda:  275.0\n",
      "P idle:  0.4474095890650399   E[N]:  2.2356545439688325\n",
      "PROCESS #  5    rho:  0.65    lambda:  325.0\n",
      "P idle:  0.35116968978314417   E[N]:  2.846372415964613\n",
      "PROCESS #  6    rho:  0.75    lambda:  375.0\n",
      "P idle:  0.25346672414308213   E[N]:  3.940425042306989\n",
      "PROCESS #  7    rho:  0.85    lambda:  425.0\n",
      "P idle:  0.15112137525770092   E[N]:  6.67199442479989\n",
      "PROCESS #  8    rho:  0.95    lambda:  475.0\n",
      "P idle:  0.0475602572346183   E[N]:  22.00742400580436\n"
     ]
    },
    {
     "data": {
      "image/png": "[encoded data removed]",
      "text/plain": [
       "<Figure size 432x288 with 1 Axes>"
      ]
     },
     "metadata": {
      "needs_background": "light"
     },
     "output_type": "display_data"
    },
    {
     "data": {
      "image/png": "[encoded data removed]",
      "text/plain": [
       "<Figure size 432x288 with 1 Axes>"
      ]
     },
     "metadata": {
      "needs_background": "light"
     },
     "output_type": "display_data"
    }
   ],
   "source": [
    "EN,PIDLE = queue_with_infinite_buffer(1000)\n",
    "plot_q3_4()"
   ]
  },
  {
   "cell_type": "code",
   "execution_count": 14,
   "metadata": {},
   "outputs": [
    {
     "name": "stdout",
     "output_type": "stream",
     "text": [
      "PROCESS #  1    rho:  0.25    lambda:  125.0\n",
      "P idle:  0.7499189195032828   E[N]:  1.331982029581384\n",
      "PROCESS #  2    rho:  0.35    lambda:  175.0\n",
      "P idle:  0.6497546813429232   E[N]:  1.540157657620907\n",
      "PROCESS #  3    rho:  0.45    lambda:  225.0\n",
      "P idle:  0.5489105298605494   E[N]:  1.8215253504698259\n",
      "PROCESS #  4    rho:  0.55    lambda:  275.0\n",
      "P idle:  0.4510501418422961   E[N]:  2.225009484726115\n",
      "PROCESS #  5    rho:  0.65    lambda:  325.0\n",
      "P idle:  0.3503839985275927   E[N]:  2.841367282774932\n",
      "PROCESS #  6    rho:  0.75    lambda:  375.0\n",
      "P idle:  0.24753748031651499   E[N]:  4.089514268687448\n",
      "PROCESS #  7    rho:  0.85    lambda:  425.0\n",
      "P idle:  0.14900740475815125   E[N]:  6.74522139424054\n",
      "PROCESS #  8    rho:  0.95    lambda:  475.0\n",
      "P idle:  0.05013171559536649   E[N]:  20.165992188180496\n"
     ]
    },
    {
     "data": {
      "image/png": "[encoded data removed]",
      "text/plain": [
       "<Figure size 432x288 with 1 Axes>"
      ]
     },
     "metadata": {
      "needs_background": "light"
     },
     "output_type": "display_data"
    },
    {
     "data": {
      "image/png": "[encoded data removed]",
      "text/plain": [
       "<Figure size 432x288 with 1 Axes>"
      ]
     },
     "metadata": {
      "needs_background": "light"
     },
     "output_type": "display_data"
    }
   ],
   "source": [
    "EN,PIDLE = queue_with_infinite_buffer(2000)\n",
    "plot_q3_4()"
   ]
  },
  {
   "cell_type": "markdown",
   "metadata": {},
   "source": [
    "## Q4"
   ]
  },
  {
   "cell_type": "code",
   "execution_count": 15,
   "metadata": {},
   "outputs": [
    {
     "name": "stdout",
     "output_type": "stream",
     "text": [
      "PROCESS #  1    rho:  1.2    lambda:  600.0\n",
      "P idle:  3.6329022289355e-05   E[N]:  49285.856007522045\n"
     ]
    }
   ],
   "source": [
    "rho_list = [1.2]\n",
    "EN,PIDLE = queue_with_infinite_buffer(1000)\n",
    "# EN,PIDLE = queue_with_infinite_buffer(2000)\n",
    "# EN,PIDLE = queue_with_infinite_buffer(3000)"
   ]
  },
  {
   "cell_type": "markdown",
   "metadata": {},
   "source": [
    "## Q5 M/M/1/K queue"
   ]
  },
  {
   "cell_type": "code",
   "execution_count": 29,
   "metadata": {},
   "outputs": [],
   "source": [
    "def finite_buffer_event_list(Time,lambda_value,L=2000):\n",
    "    #fix observer rate for all queue\n",
    "    alpha = lambda_alpha_factor * lambda_value\n",
    "    #initialization of time stream:\n",
    "    \n",
    "    #departureStream = 0 \n",
    "    arrivalStream = 0\n",
    "    observerStream = 0\n",
    "    \n",
    "#     #lists to hold times\n",
    "#     departureStream_list = []\n",
    "#     arrivalStream_list = []\n",
    "#     observerStream_list = []\n",
    "    \n",
    "    event_list = []\n",
    "    #get data packets running ...\n",
    "    while observerStream < Time:\n",
    "        observerStream = exp_rad_var(alpha) + observerStream\n",
    "        #event_list.append((\"Observer\",observerStream,0))\n",
    "        heapq.heappush(event_array, (observerStream, 'Observer'))\n",
    "        \n",
    "    while arrivalStream < Time:\n",
    "        arrivalStream = exp_rad_var(lambda_value) + arrivalStream\n",
    "        packet_size = exp_rad_var(1/L)\n",
    "        observerStream = packet_size/C_rate\n",
    "        #event_list.append((\"Arrival\",arrivalStream,packet_size))\n",
    "        heapq.heappush(event_array, (arrivalStream, 'Arrival'))\n",
    "\n",
    "    event_list.sort(key=lambda tup: tup[1], reverse=True)\n",
    "    return event_list\n",
    "\n",
    "def finite_buffer_calculation(event_list,K):\n",
    "    a_c = 0 \n",
    "    d_c = 0\n",
    "    o_c = 0 \n",
    "    \n",
    "    idle_c = 0\n",
    "    loss_c = 0\n",
    "    packet_c = 0\n",
    "    avg_packet = []\n",
    "\n",
    "    number_in_queue = 0\n",
    "    \n",
    "    packet_size = 0\n",
    "    service_time = 0\n",
    "    \n",
    "    departureStream_list = []\n",
    "    departureStream = 0 \n",
    "    \n",
    "    index = 0    \n",
    "    while event_list:\n",
    "        event = heapq.heappop(event_array)\n",
    "        if(event[0] == 'Arrival'):\n",
    "            #print(\"arrival\")\n",
    "            packet_size = event[1]\n",
    "            service_time = packet_size/C_rate\n",
    "            #check queue full or empty\n",
    "            if(number_in_queue < K): #? = or not \n",
    "                a_c = a_c + 1\n",
    "                number_in_queue = number_in_queue + 1\n",
    "                \n",
    "                if(departureStream < event_list[index][1]):\n",
    "                    departureStream = service_time + event_list[index][1]\n",
    "                else:\n",
    "                    departureStream = departureStream + service_time\n",
    "                    \n",
    "                event_list.insert(0, (\"Departure\",departureStream,packet_size))\n",
    "                #event_list.append((\"Departure\",departureStream,packet_size))\n",
    "            #full queue drop!\n",
    "            else:\n",
    "                loss_c = loss_c + 1\n",
    "   \n",
    "        elif(event_list[index][0] == 'Departure'):\n",
    "            #print(\"departure\")\n",
    "            number_in_queue = number_in_queue - 1\n",
    "            d_c = d_c + 1\n",
    "            \n",
    "        elif(event_list[index][0] == 'Observer'):\n",
    "            #print(\"observer\")\n",
    "            o_c = o_c + 1\n",
    "#             if((a_c - d_c) == 0):\n",
    "#                 idle_c = idle_c + 1\n",
    "            avg_packet.append(a_c - d_c)\n",
    "        #print(len(event_list))\n",
    "        event_list.pop(0)\n",
    "        \n",
    "            \n",
    "    p_loss = loss_c/(loss_c + a_c)\n",
    "    e_n = sum(avg_packet)/len(avg_packet)\n",
    "    return p_loss, e_n\n",
    "        "
   ]
  },
  {
   "cell_type": "code",
   "execution_count": null,
   "metadata": {},
   "outputs": [],
   "source": []
  },
  {
   "cell_type": "code",
   "execution_count": 18,
   "metadata": {},
   "outputs": [
    {
     "ename": "NameError",
     "evalue": "name 'rho_list_second' is not defined",
     "output_type": "error",
     "traceback": [
      "\u001b[0;31m---------------------------------------------------------------------------\u001b[0m",
      "\u001b[0;31mNameError\u001b[0m                                 Traceback (most recent call last)",
      "\u001b[0;32m<ipython-input-18-5f232d55c40b>\u001b[0m in \u001b[0;36m<module>\u001b[0;34m\u001b[0m\n\u001b[0;32m----> 1\u001b[0;31m \u001b[0mrho\u001b[0m \u001b[0;34m=\u001b[0m \u001b[0mrho_list_second\u001b[0m\u001b[0;34m[\u001b[0m\u001b[0;36m2\u001b[0m\u001b[0;34m]\u001b[0m\u001b[0;34m\u001b[0m\u001b[0;34m\u001b[0m\u001b[0m\n\u001b[0m\u001b[1;32m      2\u001b[0m \u001b[0mL\u001b[0m \u001b[0;34m=\u001b[0m \u001b[0;36m2000\u001b[0m\u001b[0;34m\u001b[0m\u001b[0;34m\u001b[0m\u001b[0m\n\u001b[1;32m      3\u001b[0m \u001b[0mC\u001b[0m \u001b[0;34m=\u001b[0m \u001b[0mmil\u001b[0m\u001b[0;34m\u001b[0m\u001b[0;34m\u001b[0m\u001b[0m\n\u001b[1;32m      4\u001b[0m \u001b[0mlambda_value\u001b[0m \u001b[0;34m=\u001b[0m \u001b[0mrho\u001b[0m \u001b[0;34m/\u001b[0m \u001b[0mL\u001b[0m \u001b[0;34m*\u001b[0m \u001b[0mC\u001b[0m\u001b[0;34m\u001b[0m\u001b[0;34m\u001b[0m\u001b[0m\n\u001b[1;32m      5\u001b[0m \u001b[0mevee\u001b[0m  \u001b[0;34m=\u001b[0m \u001b[0mfinite_buffer_event_list\u001b[0m\u001b[0;34m(\u001b[0m\u001b[0;36m1000\u001b[0m\u001b[0;34m,\u001b[0m\u001b[0mlambda_value\u001b[0m\u001b[0;34m)\u001b[0m\u001b[0;34m\u001b[0m\u001b[0;34m\u001b[0m\u001b[0m\n",
      "\u001b[0;31mNameError\u001b[0m: name 'rho_list_second' is not defined"
     ]
    }
   ],
   "source": [
    "rho = rho_list_second[2]\n",
    "L = 2000\n",
    "C = mil\n",
    "lambda_value = rho / L * C\n",
    "evee  = finite_buffer_event_list(1000,lambda_value)\n",
    "op,po = finite_buffer_calculation(evee,50)"
   ]
  },
  {
   "cell_type": "code",
   "execution_count": null,
   "metadata": {},
   "outputs": [],
   "source": [
    "op,po"
   ]
  },
  {
   "cell_type": "code",
   "execution_count": null,
   "metadata": {},
   "outputs": [],
   "source": []
  },
  {
   "cell_type": "code",
   "execution_count": null,
   "metadata": {},
   "outputs": [],
   "source": []
  },
  {
   "cell_type": "code",
   "execution_count": 16,
   "metadata": {},
   "outputs": [],
   "source": [
    "rho_list_second = [0.5, 0.6, 0.7, 0.8, 0.9, 1.0, 1.1, 1.2, 1.3, 1.4, 1.5]\n",
    "packet_list = [10, 25, 50]\n",
    "def queue_with_finite_buffer(Time,L=2000,C=C_rate):\n",
    "    # start processing\n",
    "    round_index = 0\n",
    "    total_avg = []\n",
    "    total_p_loss = []\n",
    "    for K in packet_list:\n",
    "        for rho in rho_list_second:\n",
    "            round_index = round_index + 1 \n",
    "            # ---------- getting lambda value\n",
    "            lambda_value = rho / L * C\n",
    "            print(\"PROCESS # \", round_index, \"   rho: \", rho, \"   lambda: \", lambda_value, \"  K:\", K)\n",
    "            eve = finite_buffer_event_list(Time,lambda_value,L)\n",
    "            print(\"长度: \" , len(eve))\n",
    "            ploss,e_n = finite_buffer_calculation(eve,K)\n",
    "            print(\"P loss: \", ploss, \"  E[N]: \", e_n )\n",
    "            total_avg.append(e_n)\n",
    "            total_p_loss.append(ploss)\n",
    "        \n",
    "    return total_avg,total_p_loss"
   ]
  },
  {
   "cell_type": "code",
   "execution_count": 17,
   "metadata": {
    "scrolled": false
   },
   "outputs": [
    {
     "name": "stdout",
     "output_type": "stream",
     "text": [
      "PROCESS #  1    rho:  0.5    lambda:  250.0   K: 10\n",
      "长度:  149941\n",
      "P loss:  0.9996007984031936   E[N]:  0.0\n",
      "PROCESS #  2    rho:  0.6    lambda:  300.0   K: 10\n",
      "长度:  180655\n",
      "P loss:  0.9996687644915535   E[N]:  0.0\n",
      "PROCESS #  3    rho:  0.7    lambda:  350.0   K: 10\n",
      "长度:  210161\n",
      "P loss:  0.9997144570400617   E[N]:  0.0\n",
      "PROCESS #  4    rho:  0.8    lambda:  400.0   K: 10\n",
      "长度:  240495\n",
      "P loss:  0.9997500812236023   E[N]:  0.0\n",
      "PROCESS #  5    rho:  0.9    lambda:  450.0   K: 10\n",
      "长度:  270130\n",
      "P loss:  0.9997783147487198   E[N]:  0.0\n",
      "PROCESS #  6    rho:  1.0    lambda:  500.0   K: 10\n",
      "长度:  300934\n",
      "P loss:  0.9998017249925647   E[N]:  0.0\n",
      "PROCESS #  7    rho:  1.1    lambda:  550.0   K: 10\n",
      "长度:  330388\n",
      "P loss:  0.9998184590806768   E[N]:  0.0\n",
      "PROCESS #  8    rho:  1.2    lambda:  600.0   K: 10\n",
      "长度:  359636\n",
      "P loss:  0.9998332555192423   E[N]:  0.0\n",
      "PROCESS #  9    rho:  1.3    lambda:  650.0   K: 10\n",
      "长度:  389009\n",
      "P loss:  0.999844667432974   E[N]:  0.0\n",
      "PROCESS #  10    rho:  1.4    lambda:  700.0   K: 10\n",
      "长度:  420810\n"
     ]
    },
    {
     "ename": "KeyboardInterrupt",
     "evalue": "",
     "output_type": "error",
     "traceback": [
      "\u001b[0;31m---------------------------------------------------------------------------\u001b[0m",
      "\u001b[0;31mKeyboardInterrupt\u001b[0m                         Traceback (most recent call last)",
      "\u001b[0;32m<ipython-input-17-428d3f6a9b5c>\u001b[0m in \u001b[0;36m<module>\u001b[0;34m\u001b[0m\n\u001b[0;32m----> 1\u001b[0;31m \u001b[0mtv\u001b[0m\u001b[0;34m,\u001b[0m \u001b[0mtloss\u001b[0m \u001b[0;34m=\u001b[0m \u001b[0mqueue_with_finite_buffer\u001b[0m\u001b[0;34m(\u001b[0m\u001b[0;36m100\u001b[0m\u001b[0;34m)\u001b[0m\u001b[0;34m\u001b[0m\u001b[0;34m\u001b[0m\u001b[0m\n\u001b[0m",
      "\u001b[0;32m<ipython-input-16-aa6104954d7c>\u001b[0m in \u001b[0;36mqueue_with_finite_buffer\u001b[0;34m(Time, L, C)\u001b[0m\n\u001b[1;32m     14\u001b[0m             \u001b[0meve\u001b[0m \u001b[0;34m=\u001b[0m \u001b[0mfinite_buffer_event_list\u001b[0m\u001b[0;34m(\u001b[0m\u001b[0mTime\u001b[0m\u001b[0;34m,\u001b[0m\u001b[0mlambda_value\u001b[0m\u001b[0;34m,\u001b[0m\u001b[0mL\u001b[0m\u001b[0;34m)\u001b[0m\u001b[0;34m\u001b[0m\u001b[0;34m\u001b[0m\u001b[0m\n\u001b[1;32m     15\u001b[0m             \u001b[0mprint\u001b[0m\u001b[0;34m(\u001b[0m\u001b[0;34m\"长度: \"\u001b[0m \u001b[0;34m,\u001b[0m \u001b[0mlen\u001b[0m\u001b[0;34m(\u001b[0m\u001b[0meve\u001b[0m\u001b[0;34m)\u001b[0m\u001b[0;34m)\u001b[0m\u001b[0;34m\u001b[0m\u001b[0;34m\u001b[0m\u001b[0m\n\u001b[0;32m---> 16\u001b[0;31m             \u001b[0mploss\u001b[0m\u001b[0;34m,\u001b[0m\u001b[0me_n\u001b[0m \u001b[0;34m=\u001b[0m \u001b[0mfinite_buffer_calculation\u001b[0m\u001b[0;34m(\u001b[0m\u001b[0meve\u001b[0m\u001b[0;34m,\u001b[0m\u001b[0mK\u001b[0m\u001b[0;34m)\u001b[0m\u001b[0;34m\u001b[0m\u001b[0;34m\u001b[0m\u001b[0m\n\u001b[0m\u001b[1;32m     17\u001b[0m             \u001b[0mprint\u001b[0m\u001b[0;34m(\u001b[0m\u001b[0;34m\"P loss: \"\u001b[0m\u001b[0;34m,\u001b[0m \u001b[0mploss\u001b[0m\u001b[0;34m,\u001b[0m \u001b[0;34m\"  E[N]: \"\u001b[0m\u001b[0;34m,\u001b[0m \u001b[0me_n\u001b[0m \u001b[0;34m)\u001b[0m\u001b[0;34m\u001b[0m\u001b[0;34m\u001b[0m\u001b[0m\n\u001b[1;32m     18\u001b[0m             \u001b[0mtotal_avg\u001b[0m\u001b[0;34m.\u001b[0m\u001b[0mappend\u001b[0m\u001b[0;34m(\u001b[0m\u001b[0me_n\u001b[0m\u001b[0;34m)\u001b[0m\u001b[0;34m\u001b[0m\u001b[0;34m\u001b[0m\u001b[0m\n",
      "\u001b[0;32m<ipython-input-15-0da2f7da4abd>\u001b[0m in \u001b[0;36mfinite_buffer_calculation\u001b[0;34m(event_list, K)\u001b[0m\n\u001b[1;32m     80\u001b[0m             \u001b[0mavg_packet\u001b[0m\u001b[0;34m.\u001b[0m\u001b[0mappend\u001b[0m\u001b[0;34m(\u001b[0m\u001b[0ma_c\u001b[0m \u001b[0;34m-\u001b[0m \u001b[0md_c\u001b[0m\u001b[0;34m)\u001b[0m\u001b[0;34m\u001b[0m\u001b[0;34m\u001b[0m\u001b[0m\n\u001b[1;32m     81\u001b[0m         \u001b[0;31m#print(len(event_list))\u001b[0m\u001b[0;34m\u001b[0m\u001b[0;34m\u001b[0m\u001b[0;34m\u001b[0m\u001b[0m\n\u001b[0;32m---> 82\u001b[0;31m         \u001b[0mevent_list\u001b[0m\u001b[0;34m.\u001b[0m\u001b[0mpop\u001b[0m\u001b[0;34m(\u001b[0m\u001b[0;36m0\u001b[0m\u001b[0;34m)\u001b[0m\u001b[0;34m\u001b[0m\u001b[0;34m\u001b[0m\u001b[0m\n\u001b[0m\u001b[1;32m     83\u001b[0m \u001b[0;34m\u001b[0m\u001b[0m\n\u001b[1;32m     84\u001b[0m \u001b[0;34m\u001b[0m\u001b[0m\n",
      "\u001b[0;31mKeyboardInterrupt\u001b[0m: "
     ]
    }
   ],
   "source": [
    "tv, tloss = queue_with_finite_buffer(100)"
   ]
  },
  {
   "cell_type": "code",
   "execution_count": null,
   "metadata": {},
   "outputs": [],
   "source": []
  },
  {
   "cell_type": "code",
   "execution_count": null,
   "metadata": {},
   "outputs": [],
   "source": []
  },
  {
   "cell_type": "code",
   "execution_count": null,
   "metadata": {},
   "outputs": [],
   "source": []
  },
  {
   "cell_type": "code",
   "execution_count": null,
   "metadata": {},
   "outputs": [],
   "source": [
    "def main():\n",
    "    rho_list_second = [0.5, 0.6, 0.7, 0.8, 0.9, 1.0, 1.1, 1.2, 1.3, 1.4, 1.5]\n",
    "    packet_list = [10, 25, 50]\n",
    "    queue_with_finite_buffer(100)"
   ]
  },
  {
   "cell_type": "code",
   "execution_count": null,
   "metadata": {},
   "outputs": [],
   "source": []
  },
  {
   "cell_type": "code",
   "execution_count": null,
   "metadata": {},
   "outputs": [],
   "source": []
  },
  {
   "cell_type": "code",
   "execution_count": null,
   "metadata": {},
   "outputs": [],
   "source": [
    "\n",
    "if __name__ == '__main__':\n",
    "    main()"
   ]
  }
 ],
 "metadata": {
  "kernelspec": {
   "display_name": "Python 3",
   "language": "python",
   "name": "python3"
  },
  "language_info": {
   "codemirror_mode": {
    "name": "ipython",
    "version": 3
   },
   "file_extension": ".py",
   "mimetype": "text/x-python",
   "name": "python",
   "nbconvert_exporter": "python",
   "pygments_lexer": "ipython3",
   "version": "3.8.5"
  }
 },
 "nbformat": 4,
 "nbformat_minor": 5
}
